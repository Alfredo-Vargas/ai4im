{
 "cells": [
  {
   "cell_type": "markdown",
   "id": "6f412b94-5dd7-41ef-a36f-69f47976be74",
   "metadata": {},
   "source": [
    "# AI for Injection Moulding"
   ]
  },
  {
   "cell_type": "markdown",
   "id": "940571f0-c625-409e-816b-bc0760b66731",
   "metadata": {},
   "source": [
    "## Importing Modules"
   ]
  },
  {
   "cell_type": "code",
   "execution_count": 47,
   "id": "281b5d2a-319f-4491-8d56-5a506536bb01",
   "metadata": {},
   "outputs": [],
   "source": [
    "import Helper as hp\n",
    "import pandas as pd\n",
    "import matplotlib.pyplot as plt\n",
    "import os"
   ]
  },
  {
   "cell_type": "markdown",
   "id": "ef0cd9e3-31de-4d1d-beca-bf060778c209",
   "metadata": {},
   "source": [
    "## Reading Data"
   ]
  },
  {
   "cell_type": "code",
   "execution_count": 48,
   "id": "6e6a1d70-e8c4-4675-bf84-743fa3dd4d27",
   "metadata": {},
   "outputs": [],
   "source": [
    "input_data = hp.read_input_data()\n",
    "test_data = hp.read_test_data()\n",
    "Y = hp.read_Y(os.getcwd()+\"/Data/Y1.csv\")\n",
    "features1 = hp.time_series2features(input_data[\"ramposition\"],\n",
    "                                    input_data[\"ramposition_time\"])"
   ]
  },
  {
   "cell_type": "code",
   "execution_count": 49,
   "id": "04178e1a-83ba-405d-89a2-e3d6c60c8bb0",
   "metadata": {},
   "outputs": [
    {
     "name": "stdout",
     "output_type": "stream",
     "text": [
      "Feature                       Dimension                     \n",
      "------------------------------------------\n",
      "ramposition                    1542                          \n",
      "ramposition_time               1542                          \n",
      "injection_pressure             1542                          \n",
      "injection_pressure_time        1542                          \n",
      "sensor_pressure                1542                          \n",
      "sensor_pressure_time           1542                          \n"
     ]
    }
   ],
   "source": [
    "header1 = \"Feature\"\n",
    "header2 = \"Dimension\"\n",
    "print(f\"{header1:<30}{header2:<30}\")\n",
    "print(\"------------------------------------------\")\n",
    "for key in input_data.keys():\n",
    "    print(f\"{key:<30} {len(input_data[key]):<30}\")"
   ]
  },
  {
   "cell_type": "markdown",
   "id": "764fa4a7-80d4-4e1c-9026-4c8a511aeddf",
   "metadata": {},
   "source": [
    "## Analysis of Data"
   ]
  },
  {
   "cell_type": "code",
   "execution_count": 57,
   "id": "0ba06689-0b70-4462-a08f-91f50dd9ef77",
   "metadata": {},
   "outputs": [
    {
     "data": {
      "image/png": "[encoded data removed]",
      "text/plain": [
       "<Figure size 640x480 with 1 Axes>"
      ]
     },
     "metadata": {},
     "output_type": "display_data"
    }
   ],
   "source": [
    "# print(input_data[\"ramposition\"][0])\n",
    "# print(input_data[\"ramposition_time\"][0])\n",
    "plt.plot(input_data[\"ramposition\"][0], input_data[\"ramposition_time\"][0])\n",
    "plt.show()"
   ]
  },
  {
   "cell_type": "code",
   "execution_count": null,
   "id": "810de582-0af3-4a66-afc8-5fde3e46d46e",
   "metadata": {},
   "outputs": [],
   "source": []
  }
 ],
 "metadata": {
  "kernelspec": {
   "display_name": "Python 3 (ipykernel)",
   "language": "python",
   "name": "python3"
  },
  "language_info": {
   "codemirror_mode": {
    "name": "ipython",
    "version": 3
   },
   "file_extension": ".py",
   "mimetype": "text/x-python",
   "name": "python",
   "nbconvert_exporter": "python",
   "pygments_lexer": "ipython3",
   "version": "3.10.6"
  }
 },
 "nbformat": 4,
 "nbformat_minor": 5
}
