{
 "cells": [
  {
   "cell_type": "markdown",
   "metadata": {},
   "source": [
    "# tsfresh python library for feature extraction"
   ]
  },
  {
   "cell_type": "code",
   "execution_count": 14,
   "metadata": {},
   "outputs": [],
   "source": [
    "import Helper as hp\n",
    "from tsfresh import extract_features\n",
    "import pandas as pd\n",
    "import numpy as np"
   ]
  },
  {
   "cell_type": "code",
   "execution_count": 2,
   "metadata": {},
   "outputs": [],
   "source": [
    "input_data = hp.read_input_data()\n",
    "test_data = hp.read_test_data()\n",
    "Y2 = hp.read_Y(os.getcwd()+\"/Data/Y2.csv\")\n",
    "Y2 = [int(y2) for y2 in Y2]\n",
    "input_data_df = pd.DataFrame.from_dict(input_data)\n",
    "input_data_df[\"valid_or_not\"] = Y2\n",
    "features1 = hp.time_series2features(input_data[\"ramposition\"],\n",
    "                                    input_data[\"ramposition_time\"])"
   ]
  },
  {
   "cell_type": "code",
   "execution_count": 3,
   "metadata": {},
   "outputs": [
    {
     "data": {
      "text/html": [
       "<div>\n",
       "<style scoped>\n",
       "    .dataframe tbody tr th:only-of-type {\n",
       "        vertical-align: middle;\n",
       "    }\n",
       "\n",
       "    .dataframe tbody tr th {\n",
       "        vertical-align: top;\n",
       "    }\n",
       "\n",
       "    .dataframe thead th {\n",
       "        text-align: right;\n",
       "    }\n",
       "</style>\n",
       "<table border=\"1\" class=\"dataframe\">\n",
       "  <thead>\n",
       "    <tr style=\"text-align: right;\">\n",
       "      <th></th>\n",
       "      <th>ramposition</th>\n",
       "      <th>ramposition_time</th>\n",
       "      <th>injection_pressure</th>\n",
       "      <th>injection_pressure_time</th>\n",
       "      <th>sensor_pressure</th>\n",
       "      <th>sensor_pressure_time</th>\n",
       "      <th>valid_or_not</th>\n",
       "    </tr>\n",
       "  </thead>\n",
       "  <tbody>\n",
       "    <tr>\n",
       "      <th>0</th>\n",
       "      <td>[0.071227, 0.070499, 0.06996, 0.06934, 0.06879...</td>\n",
       "      <td>[0.00669, 0.015201, 0.021505, 0.028743, 0.0350...</td>\n",
       "      <td>[0.0, 2836400.0, 5461800.0, 7290900.0, 9201700...</td>\n",
       "      <td>[0.0, 0.00669, 0.015201, 0.021505, 0.028743, 0...</td>\n",
       "      <td>[0.0, 0.0, 0.0, 0.0, 0.0, 0.0, 0.0, 0.0, 0.0, ...</td>\n",
       "      <td>[0.00669, 0.015201, 0.021505, 0.028743, 0.0350...</td>\n",
       "      <td>1</td>\n",
       "    </tr>\n",
       "    <tr>\n",
       "      <th>1</th>\n",
       "      <td>[0.071227, 0.070506, 0.069968, 0.069349, 0.068...</td>\n",
       "      <td>[0.007142, 0.016141, 0.022851, 0.03058, 0.0373...</td>\n",
       "      <td>[0.0, 2719500.0, 5223100.0, 6981400.0, 8817000...</td>\n",
       "      <td>[0.0, 0.007142, 0.016141, 0.022851, 0.03058, 0...</td>\n",
       "      <td>[0.0, 0.0, 0.0, 0.0, 0.0, 0.0, 0.0, 0.0, 0.0, ...</td>\n",
       "      <td>[0.007142, 0.016141, 0.022851, 0.03058, 0.0373...</td>\n",
       "      <td>1</td>\n",
       "    </tr>\n",
       "    <tr>\n",
       "      <th>2</th>\n",
       "      <td>[0.071227, 0.07048, 0.069943, 0.06933, 0.06878...</td>\n",
       "      <td>[0.0074, 0.017065, 0.023998, 0.03193, 0.038993...</td>\n",
       "      <td>[0.0, 2985100.0, 5853000.0, 7770100.0, 9795700...</td>\n",
       "      <td>[0.0, 0.0074, 0.017065, 0.023998, 0.03193, 0.0...</td>\n",
       "      <td>[0.0, 0.0, 0.0, 0.0, 0.0, 0.0, 0.0, 0.0, 0.0, ...</td>\n",
       "      <td>[0.0074, 0.017065, 0.023998, 0.03193, 0.038993...</td>\n",
       "      <td>1</td>\n",
       "    </tr>\n",
       "    <tr>\n",
       "      <th>3</th>\n",
       "      <td>[0.071227, 0.070522, 0.069982, 0.069359, 0.068...</td>\n",
       "      <td>[0.007268, 0.016227, 0.023072, 0.030986, 0.037...</td>\n",
       "      <td>[0.0, 2510300.0, 4774100.0, 6414900.0, 8109300...</td>\n",
       "      <td>[0.0, 0.007268, 0.016227, 0.023072, 0.030986, ...</td>\n",
       "      <td>[0.0, 0.0, 0.0, 0.0, 0.0, 0.0, 0.0, 0.0, 0.0, ...</td>\n",
       "      <td>[0.007268, 0.016227, 0.023072, 0.030986, 0.037...</td>\n",
       "      <td>1</td>\n",
       "    </tr>\n",
       "    <tr>\n",
       "      <th>4</th>\n",
       "      <td>[0.071227, 0.070501, 0.069961, 0.069342, 0.068...</td>\n",
       "      <td>[0.006897, 0.015651, 0.022148, 0.029611, 0.036...</td>\n",
       "      <td>[0.0, 2795600.0, 5384200.0, 7191900.0, 9078600...</td>\n",
       "      <td>[0.0, 0.006897, 0.015651, 0.022148, 0.029611, ...</td>\n",
       "      <td>[0.0, 0.0, 0.0, 0.0, 0.0, 0.0, 0.0, 0.0, 0.0, ...</td>\n",
       "      <td>[0.006897, 0.015651, 0.022148, 0.029611, 0.036...</td>\n",
       "      <td>1</td>\n",
       "    </tr>\n",
       "  </tbody>\n",
       "</table>\n",
       "</div>"
      ],
      "text/plain": [
       "                                         ramposition  \\\n",
       "0  [0.071227, 0.070499, 0.06996, 0.06934, 0.06879...   \n",
       "1  [0.071227, 0.070506, 0.069968, 0.069349, 0.068...   \n",
       "2  [0.071227, 0.07048, 0.069943, 0.06933, 0.06878...   \n",
       "3  [0.071227, 0.070522, 0.069982, 0.069359, 0.068...   \n",
       "4  [0.071227, 0.070501, 0.069961, 0.069342, 0.068...   \n",
       "\n",
       "                                    ramposition_time  \\\n",
       "0  [0.00669, 0.015201, 0.021505, 0.028743, 0.0350...   \n",
       "1  [0.007142, 0.016141, 0.022851, 0.03058, 0.0373...   \n",
       "2  [0.0074, 0.017065, 0.023998, 0.03193, 0.038993...   \n",
       "3  [0.007268, 0.016227, 0.023072, 0.030986, 0.037...   \n",
       "4  [0.006897, 0.015651, 0.022148, 0.029611, 0.036...   \n",
       "\n",
       "                                  injection_pressure  \\\n",
       "0  [0.0, 2836400.0, 5461800.0, 7290900.0, 9201700...   \n",
       "1  [0.0, 2719500.0, 5223100.0, 6981400.0, 8817000...   \n",
       "2  [0.0, 2985100.0, 5853000.0, 7770100.0, 9795700...   \n",
       "3  [0.0, 2510300.0, 4774100.0, 6414900.0, 8109300...   \n",
       "4  [0.0, 2795600.0, 5384200.0, 7191900.0, 9078600...   \n",
       "\n",
       "                             injection_pressure_time  \\\n",
       "0  [0.0, 0.00669, 0.015201, 0.021505, 0.028743, 0...   \n",
       "1  [0.0, 0.007142, 0.016141, 0.022851, 0.03058, 0...   \n",
       "2  [0.0, 0.0074, 0.017065, 0.023998, 0.03193, 0.0...   \n",
       "3  [0.0, 0.007268, 0.016227, 0.023072, 0.030986, ...   \n",
       "4  [0.0, 0.006897, 0.015651, 0.022148, 0.029611, ...   \n",
       "\n",
       "                                     sensor_pressure  \\\n",
       "0  [0.0, 0.0, 0.0, 0.0, 0.0, 0.0, 0.0, 0.0, 0.0, ...   \n",
       "1  [0.0, 0.0, 0.0, 0.0, 0.0, 0.0, 0.0, 0.0, 0.0, ...   \n",
       "2  [0.0, 0.0, 0.0, 0.0, 0.0, 0.0, 0.0, 0.0, 0.0, ...   \n",
       "3  [0.0, 0.0, 0.0, 0.0, 0.0, 0.0, 0.0, 0.0, 0.0, ...   \n",
       "4  [0.0, 0.0, 0.0, 0.0, 0.0, 0.0, 0.0, 0.0, 0.0, ...   \n",
       "\n",
       "                                sensor_pressure_time  valid_or_not  \n",
       "0  [0.00669, 0.015201, 0.021505, 0.028743, 0.0350...             1  \n",
       "1  [0.007142, 0.016141, 0.022851, 0.03058, 0.0373...             1  \n",
       "2  [0.0074, 0.017065, 0.023998, 0.03193, 0.038993...             1  \n",
       "3  [0.007268, 0.016227, 0.023072, 0.030986, 0.037...             1  \n",
       "4  [0.006897, 0.015651, 0.022148, 0.029611, 0.036...             1  "
      ]
     },
     "execution_count": 3,
     "metadata": {},
     "output_type": "execute_result"
    }
   ],
   "source": [
    "input_data_df.head(5)"
   ]
  },
  {
   "cell_type": "code",
   "execution_count": 23,
   "metadata": {},
   "outputs": [
    {
     "name": "stdout",
     "output_type": "stream",
     "text": [
      "[0.015201 0.021505 0.028743 0.035094]\n",
      "[18.764668 19.014668 19.514668 19.764668 20.000099]\n",
      "[18.764668 19.014668 19.514668 19.764668 20.000099]\n"
     ]
    }
   ],
   "source": [
    "ram_time = input_data_df.ramposition_time.to_numpy()[0]\n",
    "injection_pressure_time = input_data_df.injection_pressure_time.to_numpy()[0]\n",
    "sensor_pressure_time = input_data_df.sensor_pressure_time.to_numpy()[0]\n",
    "vec_ram_time = np.array(ram_time)\n",
    "vec_injection_time = np.array(injection_pressure_time)\n",
    "vec_sensor_time = np.array(sensor_pressure_time)\n",
    "# print(len(vec_ram_time))\n",
    "# print(len(vec_injection_time))\n",
    "# print(len(vec_sensor_time))\n",
    "\n",
    "print(vec_ram_time[1:5])\n",
    "print(vec_injection_time[1:5])\n",
    "print(vec_sensor_time[1:5])"
   ]
  },
  {
   "cell_type": "markdown",
   "metadata": {},
   "source": [
    "## TODO:\n",
    "- The time steps are the same for all sensor measurements, therefore tsfresh can be applied as truly time series multivariate problem. Otherwise we would need a little bit of more transformations."
   ]
  }
 ],
 "metadata": {
  "kernelspec": {
   "display_name": "Python 3.10.6 ('ai4im')",
   "language": "python",
   "name": "python3"
  },
  "language_info": {
   "codemirror_mode": {
    "name": "ipython",
    "version": 3
   },
   "file_extension": ".py",
   "mimetype": "text/x-python",
   "name": "python",
   "nbconvert_exporter": "python",
   "pygments_lexer": "ipython3",
   "version": "3.10.6"
  },
  "orig_nbformat": 4,
  "vscode": {
   "interpreter": {
    "hash": "9be56d37fc75c187c42f0d28adc94f3825638e5e999f1aa6fcbda1803cc337a6"
   }
  }
 },
 "nbformat": 4,
 "nbformat_minor": 2
}
