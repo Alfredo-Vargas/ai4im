{
 "cells": [
  {
   "cell_type": "markdown",
   "metadata": {},
   "source": [
    "# tsfresh python library for feature extraction"
   ]
  },
  {
   "cell_type": "code",
   "execution_count": 2,
   "metadata": {},
   "outputs": [],
   "source": [
    "import Helper as hp\n",
    "from tsfresh import extract_features\n",
    "import pandas as pd\n",
    "import numpy as np\n",
    "import os"
   ]
  },
  {
   "cell_type": "code",
   "execution_count": 5,
   "metadata": {},
   "outputs": [
    {
     "name": "stdout",
     "output_type": "stream",
     "text": [
      "<class 'list'>\n",
      "6\n",
      "1542\n"
     ]
    }
   ],
   "source": [
    "input_data = hp.read_input_data()  # returns a dictionary\n",
    "test_data = hp.read_test_data()  # returns a dictionary\n",
    "label = hp.read_Y(os.getcwd()+\"/Data/Y2.csv\")  # returns a list\n",
    "label = [int(y2) for y2 in label]\n",
    "print(type(input_data['ramposition'][0]))\n",
    "print(len(input_data))\n",
    "print(len(input_data['ramposition']))"
   ]
  },
  {
   "cell_type": "code",
   "execution_count": 85,
   "metadata": {},
   "outputs": [
    {
     "name": "stdout",
     "output_type": "stream",
     "text": [
      "ramposition\n",
      "174\n",
      "ramposition_time\n",
      "174\n",
      "injection_pressure\n",
      "175\n",
      "injection_pressure_time\n",
      "175\n",
      "sensor_pressure\n",
      "174\n",
      "sensor_pressure_time\n",
      "174\n"
     ]
    }
   ],
   "source": [
    "feature_engineered_df = pd.DataFrame()\n",
    "bin_counter = 0\n",
    "for i in range(len(input_data['ramposition_time'])):\n",
    "    bin_id = [bin_counter for _ in range(len(input_data['ramposition_time'][i]))]\n",
    "    temp_ts_ramp = pd.DataFrame({'bin_id': bin_id,\n",
    "        'ramposition_time': input_data['ramposition_time'][i],\n",
    "    'ramposition': input_data['ramposition'][i]})\n",
    "    bin_counter += 1\n",
    "\n",
    "temp_ts_ramp = pd.Dataframe({key: input_data[key]})\n",
    "print(key)\n",
    "print(len(input_data[key][0]))\n"
   ]
  },
  {
   "cell_type": "code",
   "execution_count": 3,
   "metadata": {},
   "outputs": [
    {
     "data": {
      "text/html": [
       "<div>\n",
       "<style scoped>\n",
       "    .dataframe tbody tr th:only-of-type {\n",
       "        vertical-align: middle;\n",
       "    }\n",
       "\n",
       "    .dataframe tbody tr th {\n",
       "        vertical-align: top;\n",
       "    }\n",
       "\n",
       "    .dataframe thead th {\n",
       "        text-align: right;\n",
       "    }\n",
       "</style>\n",
       "<table border=\"1\" class=\"dataframe\">\n",
       "  <thead>\n",
       "    <tr style=\"text-align: right;\">\n",
       "      <th></th>\n",
       "      <th>ramposition</th>\n",
       "      <th>ramposition_time</th>\n",
       "      <th>injection_pressure</th>\n",
       "      <th>injection_pressure_time</th>\n",
       "      <th>sensor_pressure</th>\n",
       "      <th>sensor_pressure_time</th>\n",
       "      <th>valid_or_not</th>\n",
       "    </tr>\n",
       "  </thead>\n",
       "  <tbody>\n",
       "    <tr>\n",
       "      <th>0</th>\n",
       "      <td>[0.071227, 0.070499, 0.06996, 0.06934, 0.06879...</td>\n",
       "      <td>[0.00669, 0.015201, 0.021505, 0.028743, 0.0350...</td>\n",
       "      <td>[0.0, 2836400.0, 5461800.0, 7290900.0, 9201700...</td>\n",
       "      <td>[0.0, 0.00669, 0.015201, 0.021505, 0.028743, 0...</td>\n",
       "      <td>[0.0, 0.0, 0.0, 0.0, 0.0, 0.0, 0.0, 0.0, 0.0, ...</td>\n",
       "      <td>[0.00669, 0.015201, 0.021505, 0.028743, 0.0350...</td>\n",
       "      <td>1</td>\n",
       "    </tr>\n",
       "    <tr>\n",
       "      <th>1</th>\n",
       "      <td>[0.071227, 0.070506, 0.069968, 0.069349, 0.068...</td>\n",
       "      <td>[0.007142, 0.016141, 0.022851, 0.03058, 0.0373...</td>\n",
       "      <td>[0.0, 2719500.0, 5223100.0, 6981400.0, 8817000...</td>\n",
       "      <td>[0.0, 0.007142, 0.016141, 0.022851, 0.03058, 0...</td>\n",
       "      <td>[0.0, 0.0, 0.0, 0.0, 0.0, 0.0, 0.0, 0.0, 0.0, ...</td>\n",
       "      <td>[0.007142, 0.016141, 0.022851, 0.03058, 0.0373...</td>\n",
       "      <td>1</td>\n",
       "    </tr>\n",
       "    <tr>\n",
       "      <th>2</th>\n",
       "      <td>[0.071227, 0.07048, 0.069943, 0.06933, 0.06878...</td>\n",
       "      <td>[0.0074, 0.017065, 0.023998, 0.03193, 0.038993...</td>\n",
       "      <td>[0.0, 2985100.0, 5853000.0, 7770100.0, 9795700...</td>\n",
       "      <td>[0.0, 0.0074, 0.017065, 0.023998, 0.03193, 0.0...</td>\n",
       "      <td>[0.0, 0.0, 0.0, 0.0, 0.0, 0.0, 0.0, 0.0, 0.0, ...</td>\n",
       "      <td>[0.0074, 0.017065, 0.023998, 0.03193, 0.038993...</td>\n",
       "      <td>1</td>\n",
       "    </tr>\n",
       "    <tr>\n",
       "      <th>3</th>\n",
       "      <td>[0.071227, 0.070522, 0.069982, 0.069359, 0.068...</td>\n",
       "      <td>[0.007268, 0.016227, 0.023072, 0.030986, 0.037...</td>\n",
       "      <td>[0.0, 2510300.0, 4774100.0, 6414900.0, 8109300...</td>\n",
       "      <td>[0.0, 0.007268, 0.016227, 0.023072, 0.030986, ...</td>\n",
       "      <td>[0.0, 0.0, 0.0, 0.0, 0.0, 0.0, 0.0, 0.0, 0.0, ...</td>\n",
       "      <td>[0.007268, 0.016227, 0.023072, 0.030986, 0.037...</td>\n",
       "      <td>1</td>\n",
       "    </tr>\n",
       "    <tr>\n",
       "      <th>4</th>\n",
       "      <td>[0.071227, 0.070501, 0.069961, 0.069342, 0.068...</td>\n",
       "      <td>[0.006897, 0.015651, 0.022148, 0.029611, 0.036...</td>\n",
       "      <td>[0.0, 2795600.0, 5384200.0, 7191900.0, 9078600...</td>\n",
       "      <td>[0.0, 0.006897, 0.015651, 0.022148, 0.029611, ...</td>\n",
       "      <td>[0.0, 0.0, 0.0, 0.0, 0.0, 0.0, 0.0, 0.0, 0.0, ...</td>\n",
       "      <td>[0.006897, 0.015651, 0.022148, 0.029611, 0.036...</td>\n",
       "      <td>1</td>\n",
       "    </tr>\n",
       "  </tbody>\n",
       "</table>\n",
       "</div>"
      ],
      "text/plain": [
       "                                         ramposition  \\\n",
       "0  [0.071227, 0.070499, 0.06996, 0.06934, 0.06879...   \n",
       "1  [0.071227, 0.070506, 0.069968, 0.069349, 0.068...   \n",
       "2  [0.071227, 0.07048, 0.069943, 0.06933, 0.06878...   \n",
       "3  [0.071227, 0.070522, 0.069982, 0.069359, 0.068...   \n",
       "4  [0.071227, 0.070501, 0.069961, 0.069342, 0.068...   \n",
       "\n",
       "                                    ramposition_time  \\\n",
       "0  [0.00669, 0.015201, 0.021505, 0.028743, 0.0350...   \n",
       "1  [0.007142, 0.016141, 0.022851, 0.03058, 0.0373...   \n",
       "2  [0.0074, 0.017065, 0.023998, 0.03193, 0.038993...   \n",
       "3  [0.007268, 0.016227, 0.023072, 0.030986, 0.037...   \n",
       "4  [0.006897, 0.015651, 0.022148, 0.029611, 0.036...   \n",
       "\n",
       "                                  injection_pressure  \\\n",
       "0  [0.0, 2836400.0, 5461800.0, 7290900.0, 9201700...   \n",
       "1  [0.0, 2719500.0, 5223100.0, 6981400.0, 8817000...   \n",
       "2  [0.0, 2985100.0, 5853000.0, 7770100.0, 9795700...   \n",
       "3  [0.0, 2510300.0, 4774100.0, 6414900.0, 8109300...   \n",
       "4  [0.0, 2795600.0, 5384200.0, 7191900.0, 9078600...   \n",
       "\n",
       "                             injection_pressure_time  \\\n",
       "0  [0.0, 0.00669, 0.015201, 0.021505, 0.028743, 0...   \n",
       "1  [0.0, 0.007142, 0.016141, 0.022851, 0.03058, 0...   \n",
       "2  [0.0, 0.0074, 0.017065, 0.023998, 0.03193, 0.0...   \n",
       "3  [0.0, 0.007268, 0.016227, 0.023072, 0.030986, ...   \n",
       "4  [0.0, 0.006897, 0.015651, 0.022148, 0.029611, ...   \n",
       "\n",
       "                                     sensor_pressure  \\\n",
       "0  [0.0, 0.0, 0.0, 0.0, 0.0, 0.0, 0.0, 0.0, 0.0, ...   \n",
       "1  [0.0, 0.0, 0.0, 0.0, 0.0, 0.0, 0.0, 0.0, 0.0, ...   \n",
       "2  [0.0, 0.0, 0.0, 0.0, 0.0, 0.0, 0.0, 0.0, 0.0, ...   \n",
       "3  [0.0, 0.0, 0.0, 0.0, 0.0, 0.0, 0.0, 0.0, 0.0, ...   \n",
       "4  [0.0, 0.0, 0.0, 0.0, 0.0, 0.0, 0.0, 0.0, 0.0, ...   \n",
       "\n",
       "                                sensor_pressure_time  valid_or_not  \n",
       "0  [0.00669, 0.015201, 0.021505, 0.028743, 0.0350...             1  \n",
       "1  [0.007142, 0.016141, 0.022851, 0.03058, 0.0373...             1  \n",
       "2  [0.0074, 0.017065, 0.023998, 0.03193, 0.038993...             1  \n",
       "3  [0.007268, 0.016227, 0.023072, 0.030986, 0.037...             1  \n",
       "4  [0.006897, 0.015651, 0.022148, 0.029611, 0.036...             1  "
      ]
     },
     "execution_count": 3,
     "metadata": {},
     "output_type": "execute_result"
    }
   ],
   "source": [
    "input_data_df.head(5)"
   ]
  },
  {
   "cell_type": "code",
   "execution_count": 44,
   "metadata": {},
   "outputs": [],
   "source": [
    "ram_time = input_data_df.ramposition_time.to_numpy()\n",
    "ram = input_data_df.ramposition.to_numpy()\n",
    "injection_pressure_time = input_data_df.injection_pressure_time.to_numpy()\n",
    "sensor_pressure_time = input_data_df.sensor_pressure_time.to_numpy()\n",
    "\n",
    "# for i in range(len(ram_time)):\n",
    "#     print(len(ram_time[i]), len(ram[i]))\n",
    "\n",
    "# vec_ram_time = np.array(ram_time)\n",
    "# vec_injection_time = np.array(injection_pressure_time)\n",
    "# vec_sensor_time = np.array(sensor_pressure_time)\n",
    "\n",
    "# # print(len(vec_ram_time))\n",
    "# # print(len(vec_injection_time))\n",
    "# # print(len(vec_sensor_time))\n",
    "\n",
    "# print(vec_ram_time[-1])\n",
    "# print(len(vec_ram_time))\n",
    "# print(vec_injection_time[-1])\n",
    "# print(len(vec_injection_time))\n",
    "# print(len(injection_pressure))\n",
    "# print(vec_sensor_time[-1])\n",
    "# print(len(vec_sensor_time))"
   ]
  },
  {
   "cell_type": "code",
   "execution_count": 62,
   "metadata": {},
   "outputs": [],
   "source": [
    "id_ts1 = [1 for x in range(len(ram[0]))]\n",
    "test1 = dict({'id_ts1': id_ts1 , 'ram_t': ram_time[0], 'ram': ram[0]})\n",
    "pd_test1 = pd.DataFrame(test1)\n",
    "# print(pd_test1.head())\n",
    "# print(pd_test1.index)\n",
    "\n",
    "id_ts2 = [2 for x in range(len(ram[1]))]\n",
    "test2 = dict({'id_ts2': id_ts2 , 'ram_t': ram_time[1], 'ram': ram[1]})\n",
    "pd_test2 = pd.DataFrame(test2)\n",
    "# extract_t1 = extract_features(pd_test1, column_id=None)"
   ]
  },
  {
   "cell_type": "code",
   "execution_count": 66,
   "metadata": {},
   "outputs": [
    {
     "name": "stderr",
     "output_type": "stream",
     "text": [
      "Feature Extraction: 100%|██████████| 2/2 [00:00<00:00, 24.05it/s]\n",
      "Feature Extraction: 100%|██████████| 2/2 [00:00<00:00, 25.11it/s]\n"
     ]
    }
   ],
   "source": [
    "# dict1 = dict({'ramp_position_time': time_series_ram.ramposition_time[0], 'ramp_position': time_series_ram.ramposition[0]})\n",
    "# print(dict1)\n",
    "# print(type(time_series_ram.iloc[0]))\n",
    "# print(time_series_ram.iloc[0])\n",
    "extract_test1 = extract_features(pd_test1, column_id='id_ts1')\n",
    "extract_test2 = extract_features(pd_test2, column_id='id_ts2')"
   ]
  },
  {
   "cell_type": "code",
   "execution_count": 67,
   "metadata": {},
   "outputs": [
    {
     "name": "stdout",
     "output_type": "stream",
     "text": [
      "<class 'pandas.core.frame.DataFrame'>\n",
      "Index(['ram__variance_larger_than_standard_deviation',\n",
      "       'ram__has_duplicate_max', 'ram__has_duplicate_min',\n",
      "       'ram__has_duplicate', 'ram__sum_values', 'ram__abs_energy',\n",
      "       'ram__mean_abs_change', 'ram__mean_change',\n",
      "       'ram__mean_second_derivative_central', 'ram__median',\n",
      "       ...\n",
      "       'ram_t__permutation_entropy__dimension_6__tau_1',\n",
      "       'ram_t__permutation_entropy__dimension_7__tau_1',\n",
      "       'ram_t__query_similarity_count__query_None__threshold_0.0',\n",
      "       'ram_t__matrix_profile__feature_\"min\"__threshold_0.98',\n",
      "       'ram_t__matrix_profile__feature_\"max\"__threshold_0.98',\n",
      "       'ram_t__matrix_profile__feature_\"mean\"__threshold_0.98',\n",
      "       'ram_t__matrix_profile__feature_\"median\"__threshold_0.98',\n",
      "       'ram_t__matrix_profile__feature_\"25\"__threshold_0.98',\n",
      "       'ram_t__matrix_profile__feature_\"75\"__threshold_0.98',\n",
      "       'ram_t__mean_n_absolute_max__number_of_maxima_7'],\n",
      "      dtype='object', length=1578)\n",
      "   ram__variance_larger_than_standard_deviation  ram__has_duplicate_max  \\\n",
      "1                                           0.0                     0.0   \n",
      "\n",
      "   ram__has_duplicate_min  ram__has_duplicate  ram__sum_values  \\\n",
      "1                     0.0                 1.0         5.145901   \n",
      "\n",
      "   ram__abs_energy  ram__mean_abs_change  ram__mean_change  \\\n",
      "1         0.236719              0.000385         -0.000384   \n",
      "\n",
      "   ram__mean_second_derivative_central  ram__median  ...  \\\n",
      "1                             0.000002     0.026569  ...   \n",
      "\n",
      "   ram_t__permutation_entropy__dimension_6__tau_1  \\\n",
      "1                                            -0.0   \n",
      "\n",
      "   ram_t__permutation_entropy__dimension_7__tau_1  \\\n",
      "1                                            -0.0   \n",
      "\n",
      "   ram_t__query_similarity_count__query_None__threshold_0.0  \\\n",
      "1                                                NaN          \n",
      "\n",
      "   ram_t__matrix_profile__feature_\"min\"__threshold_0.98  \\\n",
      "1                                           2.418888      \n",
      "\n",
      "   ram_t__matrix_profile__feature_\"max\"__threshold_0.98  \\\n",
      "1                                           5.620935      \n",
      "\n",
      "   ram_t__matrix_profile__feature_\"mean\"__threshold_0.98  \\\n",
      "1                                           3.601704       \n",
      "\n",
      "   ram_t__matrix_profile__feature_\"median\"__threshold_0.98  \\\n",
      "1                                             3.1877         \n",
      "\n",
      "   ram_t__matrix_profile__feature_\"25\"__threshold_0.98  \\\n",
      "1                                           2.869416     \n",
      "\n",
      "   ram_t__matrix_profile__feature_\"75\"__threshold_0.98  \\\n",
      "1                                           4.184912     \n",
      "\n",
      "   ram_t__mean_n_absolute_max__number_of_maxima_7  \n",
      "1                                       19.048301  \n",
      "\n",
      "[1 rows x 1578 columns]\n",
      "1\n"
     ]
    }
   ],
   "source": [
    "print(type(extract_test1))\n",
    "# print(extract_test1.describe())\n",
    "print(extract_test1.columns)\n",
    "print(extract_test1.head())\n",
    "print(len(extract_test1))"
   ]
  },
  {
   "cell_type": "code",
   "execution_count": 69,
   "metadata": {},
   "outputs": [
    {
     "name": "stdout",
     "output_type": "stream",
     "text": [
      "<class 'pandas.core.frame.DataFrame'>\n",
      "Index(['ram__variance_larger_than_standard_deviation',\n",
      "       'ram__has_duplicate_max', 'ram__has_duplicate_min',\n",
      "       'ram__has_duplicate', 'ram__sum_values', 'ram__abs_energy',\n",
      "       'ram__mean_abs_change', 'ram__mean_change',\n",
      "       'ram__mean_second_derivative_central', 'ram__median',\n",
      "       ...\n",
      "       'ram_t__permutation_entropy__dimension_6__tau_1',\n",
      "       'ram_t__permutation_entropy__dimension_7__tau_1',\n",
      "       'ram_t__query_similarity_count__query_None__threshold_0.0',\n",
      "       'ram_t__matrix_profile__feature_\"min\"__threshold_0.98',\n",
      "       'ram_t__matrix_profile__feature_\"max\"__threshold_0.98',\n",
      "       'ram_t__matrix_profile__feature_\"mean\"__threshold_0.98',\n",
      "       'ram_t__matrix_profile__feature_\"median\"__threshold_0.98',\n",
      "       'ram_t__matrix_profile__feature_\"25\"__threshold_0.98',\n",
      "       'ram_t__matrix_profile__feature_\"75\"__threshold_0.98',\n",
      "       'ram_t__mean_n_absolute_max__number_of_maxima_7'],\n",
      "      dtype='object', length=1578)\n",
      "   ram__variance_larger_than_standard_deviation  ram__has_duplicate_max  \\\n",
      "2                                           0.0                     0.0   \n",
      "\n",
      "   ram__has_duplicate_min  ram__has_duplicate  ram__sum_values  \\\n",
      "2                     0.0                 1.0         5.187046   \n",
      "\n",
      "   ram__abs_energy  ram__mean_abs_change  ram__mean_change  \\\n",
      "2         0.237251              0.000377         -0.000376   \n",
      "\n",
      "   ram__mean_second_derivative_central  ram__median  ...  \\\n",
      "2                             0.000002     0.025884  ...   \n",
      "\n",
      "   ram_t__permutation_entropy__dimension_6__tau_1  \\\n",
      "2                                            -0.0   \n",
      "\n",
      "   ram_t__permutation_entropy__dimension_7__tau_1  \\\n",
      "2                                            -0.0   \n",
      "\n",
      "   ram_t__query_similarity_count__query_None__threshold_0.0  \\\n",
      "2                                                NaN          \n",
      "\n",
      "   ram_t__matrix_profile__feature_\"min\"__threshold_0.98  \\\n",
      "2                                            2.15798      \n",
      "\n",
      "   ram_t__matrix_profile__feature_\"max\"__threshold_0.98  \\\n",
      "2                                           5.620712      \n",
      "\n",
      "   ram_t__matrix_profile__feature_\"mean\"__threshold_0.98  \\\n",
      "2                                           3.625426       \n",
      "\n",
      "   ram_t__matrix_profile__feature_\"median\"__threshold_0.98  \\\n",
      "2                                           3.238282         \n",
      "\n",
      "   ram_t__matrix_profile__feature_\"25\"__threshold_0.98  \\\n",
      "2                                           2.909337     \n",
      "\n",
      "   ram_t__matrix_profile__feature_\"75\"__threshold_0.98  \\\n",
      "2                                           4.319253     \n",
      "\n",
      "   ram_t__mean_n_absolute_max__number_of_maxima_7  \n",
      "2                                       18.976227  \n",
      "\n",
      "[1 rows x 1578 columns]\n",
      "1\n"
     ]
    }
   ],
   "source": [
    "print(type(extract_test2))\n",
    "# print(extract_test2.describe())\n",
    "print(extract_test2.columns)\n",
    "print(extract_test2.head())\n",
    "print(len(extract_test2))"
   ]
  },
  {
   "cell_type": "code",
   "execution_count": 73,
   "metadata": {},
   "outputs": [
    {
     "name": "stdout",
     "output_type": "stream",
     "text": [
      "174 177\n"
     ]
    }
   ],
   "source": [
    "extract_test2.ram__mean\n",
    "print(len(pd_test1), len(pd_test2))\n",
    "print(len(extract_test1.columns), len(extract_test2.columns))"
   ]
  },
  {
   "cell_type": "markdown",
   "metadata": {},
   "source": [
    "## References:\n",
    "- We can improved the feature filtering of our timeseries by calculating the pvalue of the new features and then drop those who are below a defined threshold. This is actually what is done when using other libraries such **tsfresh**\n",
    "- The time steps are the same for all sensor measurements, therefore tsfresh can be applied as truly time series multivariate problem. Otherwise we would need a little bit of more transformations.\n",
    "- tsfresh documentation: https://tsfresh.readthedocs.io/en/latest/\n",
    "- Github repository of tsfresh: https://github.com/blue-yonder/tsfresh"
   ]
  },
  {
   "cell_type": "markdown",
   "metadata": {},
   "source": []
  }
 ],
 "metadata": {
  "kernelspec": {
   "display_name": "Python 3.10.6 ('ai4im')",
   "language": "python",
   "name": "python3"
  },
  "language_info": {
   "codemirror_mode": {
    "name": "ipython",
    "version": 3
   },
   "file_extension": ".py",
   "mimetype": "text/x-python",
   "name": "python",
   "nbconvert_exporter": "python",
   "pygments_lexer": "ipython3",
   "version": "3.10.6"
  },
  "orig_nbformat": 4,
  "vscode": {
   "interpreter": {
    "hash": "9be56d37fc75c187c42f0d28adc94f3825638e5e999f1aa6fcbda1803cc337a6"
   }
  }
 },
 "nbformat": 4,
 "nbformat_minor": 2
}
