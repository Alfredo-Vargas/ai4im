{
 "cells": [
  {
   "cell_type": "markdown",
   "metadata": {},
   "source": [
    "# tsfresh python library for feature extraction"
   ]
  },
  {
   "cell_type": "code",
   "execution_count": 4,
   "metadata": {},
   "outputs": [],
   "source": [
    "import Helper as hp\n",
    "from tsfresh import extract_features\n",
    "import pandas as pd"
   ]
  },
  {
   "cell_type": "code",
   "execution_count": 5,
   "metadata": {},
   "outputs": [],
   "source": [
    "input_data = hp.read_input_data()\n",
    "test_data = hp.read_test_data()\n",
    "Y2 = hp.read_Y(os.getcwd()+\"/Data/Y2.csv\")\n",
    "Y2 = [int(y2) for y2 in Y2]\n",
    "input_data_df = pd.DataFrame.from_dict(input_data)\n",
    "input_data_df[\"valid_or_not\"] = Y2\n",
    "features1 = hp.time_series2features(input_data[\"ramposition\"],\n",
    "                                    input_data[\"ramposition_time\"])"
   ]
  },
  {
   "cell_type": "markdown",
   "metadata": {},
   "source": [
    "## TODO:\n",
    "- The time steps are the same for all sensor measurements, therefore tsfresh can be applied as truly time series multivariate problem. Otherwise we would need a little bit of more transformations."
   ]
  }
 ],
 "metadata": {
  "kernelspec": {
   "display_name": "Python 3.10.6 ('ai4im')",
   "language": "python",
   "name": "python3"
  },
  "language_info": {
   "codemirror_mode": {
    "name": "ipython",
    "version": 3
   },
   "file_extension": ".py",
   "mimetype": "text/x-python",
   "name": "python",
   "nbconvert_exporter": "python",
   "pygments_lexer": "ipython3",
   "version": "3.10.6"
  },
  "orig_nbformat": 4,
  "vscode": {
   "interpreter": {
    "hash": "9be56d37fc75c187c42f0d28adc94f3825638e5e999f1aa6fcbda1803cc337a6"
   }
  }
 },
 "nbformat": 4,
 "nbformat_minor": 2
}
