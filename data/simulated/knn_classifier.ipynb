{
 "cells": [
  {
   "cell_type": "markdown",
   "id": "67c9c350-ed1f-40df-995f-897fd1cc7619",
   "metadata": {},
   "source": [
    "# KNN Classifier for Injection Molding of Bins using tsfresh data"
   ]
  },
  {
   "cell_type": "code",
   "execution_count": null,
   "id": "cc84fc32-0cf1-48d1-8d47-f336e4a4ce13",
   "metadata": {},
   "outputs": [],
   "source": [
    "import pandas as pd\n",
    "import numpy as np\n",
    "import my_preprocessing_functions as mpf\n",
    "from sklearn.metrics import confusion_matrix,plot_confusion_matrix\n",
    "import matplotlib.pyplot as plt\n",
    "import seaborn as sn\n",
    "from pprint import pp\n",
    "import os"
   ]
  }
 ],
 "metadata": {
  "kernelspec": {
   "display_name": "Python 3 (ipykernel)",
   "language": "python",
   "name": "python3"
  },
  "language_info": {
   "codemirror_mode": {
    "name": "ipython",
    "version": 3
   },
   "file_extension": ".py",
   "mimetype": "text/x-python",
   "name": "python",
   "nbconvert_exporter": "python",
   "pygments_lexer": "ipython3",
   "version": "3.10.6"
  }
 },
 "nbformat": 4,
 "nbformat_minor": 5
}
