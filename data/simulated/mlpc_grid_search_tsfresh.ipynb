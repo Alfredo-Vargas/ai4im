{
 "cells": [
  {
   "cell_type": "markdown",
   "metadata": {},
   "source": [
    "# GridSearch of Multi-Layer Perceptron Classifier Model for Injection Molding of Bins using tsfresh data"
   ]
  },
  {
   "cell_type": "code",
   "execution_count": 1,
   "metadata": {},
   "outputs": [],
   "source": [
    "import pandas as pd\n",
    "import numpy as np\n",
    "import my_preprocessing_functions as mpf\n",
    "from sklearn.metrics import confusion_matrix, recall_score, f1_score, precision_score, classification_report\n",
    "from sklearn.model_selection import train_test_split\n",
    "from sklearn.neural_network import MLPClassifier\n",
    "from sklearn.model_selection import GridSearchCV\n",
    "import matplotlib.pyplot as plt\n",
    "import seaborn as sn\n",
    "from pprint import pp\n",
    "import os"
   ]
  },
  {
   "cell_type": "code",
   "execution_count": 2,
   "metadata": {},
   "outputs": [],
   "source": [
    "filename = 'processed_data_pv_0.06.csv'\n",
    "data_path = os.getcwd() + \"/BalanceData/\"\n",
    "dataset_df = pd.read_csv(data_path + filename)"
   ]
  },
  {
   "cell_type": "code",
   "execution_count": 3,
   "metadata": {},
   "outputs": [
    {
     "name": "stdout",
     "output_type": "stream",
     "text": [
      "For the full dataset,\n",
      "The imbalance profile has:\n",
      " 50.00% of valid products and     \n",
      " 50.00% of invalid products\n"
     ]
    }
   ],
   "source": [
    "print('For the full dataset,')\n",
    "mpf.check_imbalance(dataset_df['valid_or_not'])"
   ]
  },
  {
   "cell_type": "code",
   "execution_count": 4,
   "metadata": {},
   "outputs": [],
   "source": [
    "X = dataset_df.drop('valid_or_not', axis='columns')\n",
    "y = dataset_df['valid_or_not']"
   ]
  },
  {
   "cell_type": "code",
   "execution_count": 5,
   "metadata": {},
   "outputs": [],
   "source": [
    "X_train, X_test, y_train, y_test = train_test_split(X, y, random_state=0, test_size=0.2)"
   ]
  },
  {
   "cell_type": "code",
   "execution_count": 6,
   "metadata": {},
   "outputs": [
    {
     "name": "stdout",
     "output_type": "stream",
     "text": [
      "Fitting 2 folds for each of 8 candidates, totalling 16 fits\n",
      "[CV 2/2] END alpha=0.0001, learning_rate=constant, solver=sgd;, score=0.642 total time=  48.6s\n",
      "[CV 2/2] END alpha=0.0001, learning_rate=adaptive, solver=adam;, score=0.696 total time= 1.3min\n",
      "[CV 2/2] END alpha=0.0001, learning_rate=constant, solver=adam;, score=0.696 total time= 1.3min\n",
      "[CV 1/2] END alpha=0.0001, learning_rate=adaptive, solver=adam;, score=0.747 total time= 1.4min\n",
      "[CV 1/2] END alpha=0.0001, learning_rate=constant, solver=adam;, score=0.747 total time= 1.5min\n",
      "[CV 1/2] END alpha=0.0001, learning_rate=constant, solver=sgd;, score=0.764 total time= 1.7min\n",
      "[CV 1/2] END alpha=0.05, learning_rate=constant, solver=adam;, score=0.669 total time=  47.4s\n",
      "[CV 2/2] END alpha=0.05, learning_rate=constant, solver=sgd;, score=0.603 total time=  51.6s\n",
      "[CV 1/2] END alpha=0.05, learning_rate=constant, solver=sgd;, score=0.631 total time= 1.6min\n",
      "[CV 1/2] END alpha=0.0001, learning_rate=adaptive, solver=sgd;, score=0.670 total time= 2.8min\n",
      "[CV 1/2] END alpha=0.05, learning_rate=adaptive, solver=adam;, score=0.669 total time=  45.8s\n",
      "[CV 2/2] END alpha=0.05, learning_rate=constant, solver=adam;, score=0.728 total time= 1.7min\n",
      "[CV 2/2] END alpha=0.05, learning_rate=adaptive, solver=adam;, score=0.728 total time= 1.2min\n",
      "[CV 2/2] END alpha=0.0001, learning_rate=adaptive, solver=sgd;, score=0.690 total time= 3.6min\n",
      "[CV 1/2] END alpha=0.05, learning_rate=adaptive, solver=sgd;, score=0.676 total time= 2.2min\n",
      "[CV 2/2] END alpha=0.05, learning_rate=adaptive, solver=sgd;, score=0.679 total time= 2.2min\n"
     ]
    },
    {
     "data": {
      "text/html": [
       "<style>#sk-container-id-1 {color: black;background-color: white;}#sk-container-id-1 pre{padding: 0;}#sk-container-id-1 div.sk-toggleable {background-color: white;}#sk-container-id-1 label.sk-toggleable__label {cursor: pointer;display: block;width: 100%;margin-bottom: 0;padding: 0.3em;box-sizing: border-box;text-align: center;}#sk-container-id-1 label.sk-toggleable__label-arrow:before {content: \"▸\";float: left;margin-right: 0.25em;color: #696969;}#sk-container-id-1 label.sk-toggleable__label-arrow:hover:before {color: black;}#sk-container-id-1 div.sk-estimator:hover label.sk-toggleable__label-arrow:before {color: black;}#sk-container-id-1 div.sk-toggleable__content {max-height: 0;max-width: 0;overflow: hidden;text-align: left;background-color: #f0f8ff;}#sk-container-id-1 div.sk-toggleable__content pre {margin: 0.2em;color: black;border-radius: 0.25em;background-color: #f0f8ff;}#sk-container-id-1 input.sk-toggleable__control:checked~div.sk-toggleable__content {max-height: 200px;max-width: 100%;overflow: auto;}#sk-container-id-1 input.sk-toggleable__control:checked~label.sk-toggleable__label-arrow:before {content: \"▾\";}#sk-container-id-1 div.sk-estimator input.sk-toggleable__control:checked~label.sk-toggleable__label {background-color: #d4ebff;}#sk-container-id-1 div.sk-label input.sk-toggleable__control:checked~label.sk-toggleable__label {background-color: #d4ebff;}#sk-container-id-1 input.sk-hidden--visually {border: 0;clip: rect(1px 1px 1px 1px);clip: rect(1px, 1px, 1px, 1px);height: 1px;margin: -1px;overflow: hidden;padding: 0;position: absolute;width: 1px;}#sk-container-id-1 div.sk-estimator {font-family: monospace;background-color: #f0f8ff;border: 1px dotted black;border-radius: 0.25em;box-sizing: border-box;margin-bottom: 0.5em;}#sk-container-id-1 div.sk-estimator:hover {background-color: #d4ebff;}#sk-container-id-1 div.sk-parallel-item::after {content: \"\";width: 100%;border-bottom: 1px solid gray;flex-grow: 1;}#sk-container-id-1 div.sk-label:hover label.sk-toggleable__label {background-color: #d4ebff;}#sk-container-id-1 div.sk-serial::before {content: \"\";position: absolute;border-left: 1px solid gray;box-sizing: border-box;top: 0;bottom: 0;left: 50%;z-index: 0;}#sk-container-id-1 div.sk-serial {display: flex;flex-direction: column;align-items: center;background-color: white;padding-right: 0.2em;padding-left: 0.2em;position: relative;}#sk-container-id-1 div.sk-item {position: relative;z-index: 1;}#sk-container-id-1 div.sk-parallel {display: flex;align-items: stretch;justify-content: center;background-color: white;position: relative;}#sk-container-id-1 div.sk-item::before, #sk-container-id-1 div.sk-parallel-item::before {content: \"\";position: absolute;border-left: 1px solid gray;box-sizing: border-box;top: 0;bottom: 0;left: 50%;z-index: -1;}#sk-container-id-1 div.sk-parallel-item {display: flex;flex-direction: column;z-index: 1;position: relative;background-color: white;}#sk-container-id-1 div.sk-parallel-item:first-child::after {align-self: flex-end;width: 50%;}#sk-container-id-1 div.sk-parallel-item:last-child::after {align-self: flex-start;width: 50%;}#sk-container-id-1 div.sk-parallel-item:only-child::after {width: 0;}#sk-container-id-1 div.sk-dashed-wrapped {border: 1px dashed gray;margin: 0 0.4em 0.5em 0.4em;box-sizing: border-box;padding-bottom: 0.4em;background-color: white;}#sk-container-id-1 div.sk-label label {font-family: monospace;font-weight: bold;display: inline-block;line-height: 1.2em;}#sk-container-id-1 div.sk-label-container {text-align: center;}#sk-container-id-1 div.sk-container {/* jupyter's `normalize.less` sets `[hidden] { display: none; }` but bootstrap.min.css set `[hidden] { display: none !important; }` so we also need the `!important` here to be able to override the default hidden behavior on the sphinx rendered scikit-learn.org. See: https://github.com/scikit-learn/scikit-learn/issues/21755 */display: inline-block !important;position: relative;}#sk-container-id-1 div.sk-text-repr-fallback {display: none;}</style><div id=\"sk-container-id-1\" class=\"sk-top-container\"><div class=\"sk-text-repr-fallback\"><pre>GridSearchCV(cv=2,\n",
       "             estimator=MLPClassifier(hidden_layer_sizes=(537, 537, 537),\n",
       "                                     max_iter=500, random_state=123),\n",
       "             n_jobs=-1,\n",
       "             param_grid={&#x27;alpha&#x27;: [0.0001, 0.05],\n",
       "                         &#x27;learning_rate&#x27;: [&#x27;constant&#x27;, &#x27;adaptive&#x27;],\n",
       "                         &#x27;solver&#x27;: [&#x27;sgd&#x27;, &#x27;adam&#x27;]},\n",
       "             verbose=3)</pre><b>In a Jupyter environment, please rerun this cell to show the HTML representation or trust the notebook. <br />On GitHub, the HTML representation is unable to render, please try loading this page with nbviewer.org.</b></div><div class=\"sk-container\" hidden><div class=\"sk-item sk-dashed-wrapped\"><div class=\"sk-label-container\"><div class=\"sk-label sk-toggleable\"><input class=\"sk-toggleable__control sk-hidden--visually\" id=\"sk-estimator-id-1\" type=\"checkbox\" ><label for=\"sk-estimator-id-1\" class=\"sk-toggleable__label sk-toggleable__label-arrow\">GridSearchCV</label><div class=\"sk-toggleable__content\"><pre>GridSearchCV(cv=2,\n",
       "             estimator=MLPClassifier(hidden_layer_sizes=(537, 537, 537),\n",
       "                                     max_iter=500, random_state=123),\n",
       "             n_jobs=-1,\n",
       "             param_grid={&#x27;alpha&#x27;: [0.0001, 0.05],\n",
       "                         &#x27;learning_rate&#x27;: [&#x27;constant&#x27;, &#x27;adaptive&#x27;],\n",
       "                         &#x27;solver&#x27;: [&#x27;sgd&#x27;, &#x27;adam&#x27;]},\n",
       "             verbose=3)</pre></div></div></div><div class=\"sk-parallel\"><div class=\"sk-parallel-item\"><div class=\"sk-item\"><div class=\"sk-label-container\"><div class=\"sk-label sk-toggleable\"><input class=\"sk-toggleable__control sk-hidden--visually\" id=\"sk-estimator-id-2\" type=\"checkbox\" ><label for=\"sk-estimator-id-2\" class=\"sk-toggleable__label sk-toggleable__label-arrow\">estimator: MLPClassifier</label><div class=\"sk-toggleable__content\"><pre>MLPClassifier(hidden_layer_sizes=(537, 537, 537), max_iter=500,\n",
       "              random_state=123)</pre></div></div></div><div class=\"sk-serial\"><div class=\"sk-item\"><div class=\"sk-estimator sk-toggleable\"><input class=\"sk-toggleable__control sk-hidden--visually\" id=\"sk-estimator-id-3\" type=\"checkbox\" ><label for=\"sk-estimator-id-3\" class=\"sk-toggleable__label sk-toggleable__label-arrow\">MLPClassifier</label><div class=\"sk-toggleable__content\"><pre>MLPClassifier(hidden_layer_sizes=(537, 537, 537), max_iter=500,\n",
       "              random_state=123)</pre></div></div></div></div></div></div></div></div></div></div>"
      ],
      "text/plain": [
       "GridSearchCV(cv=2,\n",
       "             estimator=MLPClassifier(hidden_layer_sizes=(537, 537, 537),\n",
       "                                     max_iter=500, random_state=123),\n",
       "             n_jobs=-1,\n",
       "             param_grid={'alpha': [0.0001, 0.05],\n",
       "                         'learning_rate': ['constant', 'adaptive'],\n",
       "                         'solver': ['sgd', 'adam']},\n",
       "             verbose=3)"
      ]
     },
     "execution_count": 6,
     "metadata": {},
     "output_type": "execute_result"
    }
   ],
   "source": [
    "mlp_gs = MLPClassifier(activation='relu', hidden_layer_sizes = (537, 537, 537), max_iter=500, random_state=123)\n",
    "parameter_space = {\n",
    "    'solver': ['sgd', 'adam'],\n",
    "    'alpha': [0.0001, 0.05],\n",
    "    'learning_rate': ['constant', 'adaptive'],\n",
    "}\n",
    "clf = GridSearchCV(mlp_gs, parameter_space, n_jobs=-1, cv=2, verbose=3)\n",
    "clf.fit(X_train, y_train)"
   ]
  },
  {
   "cell_type": "code",
   "execution_count": 7,
   "metadata": {},
   "outputs": [
    {
     "name": "stdout",
     "output_type": "stream",
     "text": [
      "Best parameters found:\n",
      " {'alpha': 0.0001, 'learning_rate': 'constant', 'solver': 'adam'}\n"
     ]
    }
   ],
   "source": [
    "print('Best parameters found:\\n', clf.best_params_)"
   ]
  },
  {
   "cell_type": "code",
   "execution_count": 8,
   "metadata": {},
   "outputs": [
    {
     "name": "stdout",
     "output_type": "stream",
     "text": [
      "0.703 (+/-0.122) for {'alpha': 0.0001, 'learning_rate': 'constant', 'solver': 'sgd'}\n",
      "0.721 (+/-0.051) for {'alpha': 0.0001, 'learning_rate': 'constant', 'solver': 'adam'}\n",
      "0.680 (+/-0.020) for {'alpha': 0.0001, 'learning_rate': 'adaptive', 'solver': 'sgd'}\n",
      "0.721 (+/-0.051) for {'alpha': 0.0001, 'learning_rate': 'adaptive', 'solver': 'adam'}\n",
      "0.617 (+/-0.028) for {'alpha': 0.05, 'learning_rate': 'constant', 'solver': 'sgd'}\n",
      "0.698 (+/-0.059) for {'alpha': 0.05, 'learning_rate': 'constant', 'solver': 'adam'}\n",
      "0.678 (+/-0.003) for {'alpha': 0.05, 'learning_rate': 'adaptive', 'solver': 'sgd'}\n",
      "0.698 (+/-0.059) for {'alpha': 0.05, 'learning_rate': 'adaptive', 'solver': 'adam'}\n"
     ]
    }
   ],
   "source": [
    "means = clf.cv_results_['mean_test_score']\n",
    "stds = clf.cv_results_['std_test_score']\n",
    "for mean, std, params in zip(means, stds, clf.cv_results_['params']):\n",
    "    print(\"%0.3f (+/-%0.03f) for %r\" % (mean, std * 2, params))"
   ]
  },
  {
   "cell_type": "code",
   "execution_count": 9,
   "metadata": {},
   "outputs": [
    {
     "name": "stdout",
     "output_type": "stream",
     "text": [
      "Results on the test set:\n",
      "              precision    recall  f1-score   support\n",
      "\n",
      "           0       0.78      0.61      0.69       199\n",
      "           1       0.72      0.85      0.78       233\n",
      "\n",
      "    accuracy                           0.74       432\n",
      "   macro avg       0.75      0.73      0.73       432\n",
      "weighted avg       0.75      0.74      0.74       432\n",
      "\n"
     ]
    }
   ],
   "source": [
    "y_true, y_pred = y_test, clf.predict(X_test)\n",
    "print('Results on the test set:')\n",
    "print(classification_report(y_true, y_pred))"
   ]
  }
 ],
 "metadata": {
  "kernelspec": {
   "display_name": "Python 3 (ipykernel)",
   "language": "python",
   "name": "python3"
  },
  "language_info": {
   "codemirror_mode": {
    "name": "ipython",
    "version": 3
   },
   "file_extension": ".py",
   "mimetype": "text/x-python",
   "name": "python",
   "nbconvert_exporter": "python",
   "pygments_lexer": "ipython3",
   "version": "3.10.6"
  },
  "vscode": {
   "interpreter": {
    "hash": "9be56d37fc75c187c42f0d28adc94f3825638e5e999f1aa6fcbda1803cc337a6"
   }
  }
 },
 "nbformat": 4,
 "nbformat_minor": 4
}
