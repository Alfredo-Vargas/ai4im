{
 "cells": [
  {
   "cell_type": "markdown",
   "metadata": {},
   "source": [
    "# Random Forest Classifier for Injection Molding of Bins using tsfresh data"
   ]
  },
  {
   "cell_type": "code",
   "execution_count": null,
   "metadata": {},
   "outputs": [],
   "source": [
    "# For data exploration\n",
    "import matplotlib.pyplot as plt\n",
    "import numpy as np\n",
    "import pandas as pd\n",
    "# For Machine Learning\n",
    "from sklearn.model_selection import train_test_split\n",
    "from sklearn.ensemble import RandomForestClassifier\n",
    "from sklearn.metrics import confusion_matrix, f1_score\n",
    "from imblearn.over_sampling import SMOTE\n",
    "# For displaying results\n",
    "import seaborn as sn\n",
    "import os"
   ]
  },
  {
   "cell_type": "code",
   "execution_count": 2,
   "metadata": {},
   "outputs": [],
   "source": [
    "filename = 'extracted_features.csv'\n",
    "data_path = os.getcwd() + \"/Data/\"\n",
    "dataset_df = pd.read_csv(data_path + filename)"
   ]
  },
  {
   "cell_type": "code",
   "execution_count": 3,
   "metadata": {},
   "outputs": [
    {
     "data": {
      "text/html": [
       "<div>\n",
       "<style scoped>\n",
       "    .dataframe tbody tr th:only-of-type {\n",
       "        vertical-align: middle;\n",
       "    }\n",
       "\n",
       "    .dataframe tbody tr th {\n",
       "        vertical-align: top;\n",
       "    }\n",
       "\n",
       "    .dataframe thead th {\n",
       "        text-align: right;\n",
       "    }\n",
       "</style>\n",
       "<table border=\"1\" class=\"dataframe\">\n",
       "  <thead>\n",
       "    <tr style=\"text-align: right;\">\n",
       "      <th></th>\n",
       "      <th>Unnamed: 0</th>\n",
       "      <th>ramposition__symmetry_looking__r_0.05</th>\n",
       "      <th>ramposition__number_cwt_peaks__n_1</th>\n",
       "      <th>ramposition__number_cwt_peaks__n_5</th>\n",
       "      <th>ramposition__cwt_coefficients__coeff_4__w_2__widths_(2, 5, 10, 20)</th>\n",
       "      <th>ramposition__fft_coefficient__attr_\"real\"__coeff_26</th>\n",
       "      <th>ramposition__fft_coefficient__attr_\"real\"__coeff_27</th>\n",
       "      <th>ramposition__fft_coefficient__attr_\"real\"__coeff_28</th>\n",
       "      <th>ramposition__fft_coefficient__attr_\"real\"__coeff_34</th>\n",
       "      <th>ramposition__fft_coefficient__attr_\"real\"__coeff_56</th>\n",
       "      <th>...</th>\n",
       "      <th>sensor_pressure_time__energy_ratio_by_chunks__num_segments_10__segment_focus_1</th>\n",
       "      <th>sensor_pressure_time__energy_ratio_by_chunks__num_segments_10__segment_focus_2</th>\n",
       "      <th>sensor_pressure_time__energy_ratio_by_chunks__num_segments_10__segment_focus_3</th>\n",
       "      <th>sensor_pressure_time__energy_ratio_by_chunks__num_segments_10__segment_focus_4</th>\n",
       "      <th>sensor_pressure_time__energy_ratio_by_chunks__num_segments_10__segment_focus_5</th>\n",
       "      <th>sensor_pressure_time__energy_ratio_by_chunks__num_segments_10__segment_focus_6</th>\n",
       "      <th>sensor_pressure_time__ratio_beyond_r_sigma__r_1</th>\n",
       "      <th>sensor_pressure_time__ratio_beyond_r_sigma__r_1.5</th>\n",
       "      <th>sensor_pressure_time__lempel_ziv_complexity__bins_10</th>\n",
       "      <th>valid_or_not</th>\n",
       "    </tr>\n",
       "  </thead>\n",
       "  <tbody>\n",
       "    <tr>\n",
       "      <th>0</th>\n",
       "      <td>0</td>\n",
       "      <td>1.0</td>\n",
       "      <td>17.0</td>\n",
       "      <td>13.0</td>\n",
       "      <td>0.023171</td>\n",
       "      <td>0.031487</td>\n",
       "      <td>0.036913</td>\n",
       "      <td>0.034420</td>\n",
       "      <td>0.031473</td>\n",
       "      <td>0.032431</td>\n",
       "      <td>...</td>\n",
       "      <td>0.000819</td>\n",
       "      <td>0.001554</td>\n",
       "      <td>0.002516</td>\n",
       "      <td>0.003723</td>\n",
       "      <td>0.005158</td>\n",
       "      <td>0.006760</td>\n",
       "      <td>0.149606</td>\n",
       "      <td>0.118110</td>\n",
       "      <td>0.251969</td>\n",
       "      <td>1</td>\n",
       "    </tr>\n",
       "    <tr>\n",
       "      <th>1</th>\n",
       "      <td>1</td>\n",
       "      <td>0.0</td>\n",
       "      <td>15.0</td>\n",
       "      <td>15.0</td>\n",
       "      <td>0.023184</td>\n",
       "      <td>0.033079</td>\n",
       "      <td>0.035980</td>\n",
       "      <td>0.033703</td>\n",
       "      <td>0.031803</td>\n",
       "      <td>0.032820</td>\n",
       "      <td>...</td>\n",
       "      <td>0.000840</td>\n",
       "      <td>0.001592</td>\n",
       "      <td>0.002587</td>\n",
       "      <td>0.003822</td>\n",
       "      <td>0.005301</td>\n",
       "      <td>0.006941</td>\n",
       "      <td>0.153846</td>\n",
       "      <td>0.123077</td>\n",
       "      <td>0.246154</td>\n",
       "      <td>1</td>\n",
       "    </tr>\n",
       "    <tr>\n",
       "      <th>2</th>\n",
       "      <td>2</td>\n",
       "      <td>0.0</td>\n",
       "      <td>16.0</td>\n",
       "      <td>16.0</td>\n",
       "      <td>0.023149</td>\n",
       "      <td>0.031477</td>\n",
       "      <td>0.035799</td>\n",
       "      <td>0.035498</td>\n",
       "      <td>0.031927</td>\n",
       "      <td>0.033760</td>\n",
       "      <td>...</td>\n",
       "      <td>0.000940</td>\n",
       "      <td>0.001764</td>\n",
       "      <td>0.002831</td>\n",
       "      <td>0.004164</td>\n",
       "      <td>0.005747</td>\n",
       "      <td>0.007492</td>\n",
       "      <td>0.152672</td>\n",
       "      <td>0.122137</td>\n",
       "      <td>0.244275</td>\n",
       "      <td>1</td>\n",
       "    </tr>\n",
       "    <tr>\n",
       "      <th>3</th>\n",
       "      <td>3</td>\n",
       "      <td>1.0</td>\n",
       "      <td>11.0</td>\n",
       "      <td>11.0</td>\n",
       "      <td>0.023208</td>\n",
       "      <td>0.033024</td>\n",
       "      <td>0.036715</td>\n",
       "      <td>0.032597</td>\n",
       "      <td>0.031617</td>\n",
       "      <td>0.033582</td>\n",
       "      <td>...</td>\n",
       "      <td>0.000867</td>\n",
       "      <td>0.001646</td>\n",
       "      <td>0.002668</td>\n",
       "      <td>0.003941</td>\n",
       "      <td>0.005464</td>\n",
       "      <td>0.007167</td>\n",
       "      <td>0.155039</td>\n",
       "      <td>0.116279</td>\n",
       "      <td>0.248062</td>\n",
       "      <td>1</td>\n",
       "    </tr>\n",
       "    <tr>\n",
       "      <th>4</th>\n",
       "      <td>4</td>\n",
       "      <td>1.0</td>\n",
       "      <td>18.0</td>\n",
       "      <td>15.0</td>\n",
       "      <td>0.023171</td>\n",
       "      <td>0.032825</td>\n",
       "      <td>0.035859</td>\n",
       "      <td>0.034547</td>\n",
       "      <td>0.031930</td>\n",
       "      <td>0.033091</td>\n",
       "      <td>...</td>\n",
       "      <td>0.000862</td>\n",
       "      <td>0.001634</td>\n",
       "      <td>0.002650</td>\n",
       "      <td>0.003914</td>\n",
       "      <td>0.005419</td>\n",
       "      <td>0.007110</td>\n",
       "      <td>0.147287</td>\n",
       "      <td>0.116279</td>\n",
       "      <td>0.248062</td>\n",
       "      <td>1</td>\n",
       "    </tr>\n",
       "  </tbody>\n",
       "</table>\n",
       "<p>5 rows × 455 columns</p>\n",
       "</div>"
      ],
      "text/plain": [
       "   Unnamed: 0  ramposition__symmetry_looking__r_0.05  \\\n",
       "0           0                                    1.0   \n",
       "1           1                                    0.0   \n",
       "2           2                                    0.0   \n",
       "3           3                                    1.0   \n",
       "4           4                                    1.0   \n",
       "\n",
       "   ramposition__number_cwt_peaks__n_1  ramposition__number_cwt_peaks__n_5  \\\n",
       "0                                17.0                                13.0   \n",
       "1                                15.0                                15.0   \n",
       "2                                16.0                                16.0   \n",
       "3                                11.0                                11.0   \n",
       "4                                18.0                                15.0   \n",
       "\n",
       "   ramposition__cwt_coefficients__coeff_4__w_2__widths_(2, 5, 10, 20)  \\\n",
       "0                                           0.023171                    \n",
       "1                                           0.023184                    \n",
       "2                                           0.023149                    \n",
       "3                                           0.023208                    \n",
       "4                                           0.023171                    \n",
       "\n",
       "   ramposition__fft_coefficient__attr_\"real\"__coeff_26  \\\n",
       "0                                           0.031487     \n",
       "1                                           0.033079     \n",
       "2                                           0.031477     \n",
       "3                                           0.033024     \n",
       "4                                           0.032825     \n",
       "\n",
       "   ramposition__fft_coefficient__attr_\"real\"__coeff_27  \\\n",
       "0                                           0.036913     \n",
       "1                                           0.035980     \n",
       "2                                           0.035799     \n",
       "3                                           0.036715     \n",
       "4                                           0.035859     \n",
       "\n",
       "   ramposition__fft_coefficient__attr_\"real\"__coeff_28  \\\n",
       "0                                           0.034420     \n",
       "1                                           0.033703     \n",
       "2                                           0.035498     \n",
       "3                                           0.032597     \n",
       "4                                           0.034547     \n",
       "\n",
       "   ramposition__fft_coefficient__attr_\"real\"__coeff_34  \\\n",
       "0                                           0.031473     \n",
       "1                                           0.031803     \n",
       "2                                           0.031927     \n",
       "3                                           0.031617     \n",
       "4                                           0.031930     \n",
       "\n",
       "   ramposition__fft_coefficient__attr_\"real\"__coeff_56  ...  \\\n",
       "0                                           0.032431    ...   \n",
       "1                                           0.032820    ...   \n",
       "2                                           0.033760    ...   \n",
       "3                                           0.033582    ...   \n",
       "4                                           0.033091    ...   \n",
       "\n",
       "   sensor_pressure_time__energy_ratio_by_chunks__num_segments_10__segment_focus_1  \\\n",
       "0                                           0.000819                                \n",
       "1                                           0.000840                                \n",
       "2                                           0.000940                                \n",
       "3                                           0.000867                                \n",
       "4                                           0.000862                                \n",
       "\n",
       "   sensor_pressure_time__energy_ratio_by_chunks__num_segments_10__segment_focus_2  \\\n",
       "0                                           0.001554                                \n",
       "1                                           0.001592                                \n",
       "2                                           0.001764                                \n",
       "3                                           0.001646                                \n",
       "4                                           0.001634                                \n",
       "\n",
       "   sensor_pressure_time__energy_ratio_by_chunks__num_segments_10__segment_focus_3  \\\n",
       "0                                           0.002516                                \n",
       "1                                           0.002587                                \n",
       "2                                           0.002831                                \n",
       "3                                           0.002668                                \n",
       "4                                           0.002650                                \n",
       "\n",
       "   sensor_pressure_time__energy_ratio_by_chunks__num_segments_10__segment_focus_4  \\\n",
       "0                                           0.003723                                \n",
       "1                                           0.003822                                \n",
       "2                                           0.004164                                \n",
       "3                                           0.003941                                \n",
       "4                                           0.003914                                \n",
       "\n",
       "   sensor_pressure_time__energy_ratio_by_chunks__num_segments_10__segment_focus_5  \\\n",
       "0                                           0.005158                                \n",
       "1                                           0.005301                                \n",
       "2                                           0.005747                                \n",
       "3                                           0.005464                                \n",
       "4                                           0.005419                                \n",
       "\n",
       "   sensor_pressure_time__energy_ratio_by_chunks__num_segments_10__segment_focus_6  \\\n",
       "0                                           0.006760                                \n",
       "1                                           0.006941                                \n",
       "2                                           0.007492                                \n",
       "3                                           0.007167                                \n",
       "4                                           0.007110                                \n",
       "\n",
       "   sensor_pressure_time__ratio_beyond_r_sigma__r_1  \\\n",
       "0                                         0.149606   \n",
       "1                                         0.153846   \n",
       "2                                         0.152672   \n",
       "3                                         0.155039   \n",
       "4                                         0.147287   \n",
       "\n",
       "   sensor_pressure_time__ratio_beyond_r_sigma__r_1.5  \\\n",
       "0                                           0.118110   \n",
       "1                                           0.123077   \n",
       "2                                           0.122137   \n",
       "3                                           0.116279   \n",
       "4                                           0.116279   \n",
       "\n",
       "   sensor_pressure_time__lempel_ziv_complexity__bins_10  valid_or_not  \n",
       "0                                           0.251969                1  \n",
       "1                                           0.246154                1  \n",
       "2                                           0.244275                1  \n",
       "3                                           0.248062                1  \n",
       "4                                           0.248062                1  \n",
       "\n",
       "[5 rows x 455 columns]"
      ]
     },
     "execution_count": 3,
     "metadata": {},
     "output_type": "execute_result"
    }
   ],
   "source": [
    "dataset_df.head()"
   ]
  },
  {
   "cell_type": "code",
   "execution_count": 18,
   "metadata": {},
   "outputs": [],
   "source": [
    "dataset_df.drop(['Unnamed: 0'], axis=1, inplace=True)"
   ]
  },
  {
   "cell_type": "code",
   "execution_count": 5,
   "metadata": {},
   "outputs": [],
   "source": [
    "def check_imbalance(label: pd.Series) -> None:\n",
    "    pv = np.count_nonzero(label) / len(label) * 100\n",
    "    print(f\"The imbalance profile has:\\n {pv:.2f}% of valid products and \\\n",
    "        \\n {100 - pv:.2f}% of invalid products\")"
   ]
  },
  {
   "cell_type": "code",
   "execution_count": 6,
   "metadata": {},
   "outputs": [
    {
     "name": "stdout",
     "output_type": "stream",
     "text": [
      "For the full dataset,\n",
      "The imbalance profile has:\n",
      " 70.04% of valid products and         \n",
      " 29.96% of invalid products\n"
     ]
    }
   ],
   "source": [
    "print('For the full dataset,')\n",
    "check_imbalance(dataset_df['valid_or_not'])"
   ]
  },
  {
   "cell_type": "markdown",
   "metadata": {},
   "source": [
    "## Random Forest Pilot Test\n",
    "- We will perform quickly the random forest classifier to get an estimation of the initial f1 score for the minority class (invalid products)"
   ]
  },
  {
   "cell_type": "code",
   "execution_count": 7,
   "metadata": {},
   "outputs": [],
   "source": [
    "X_train, X_test, y_train, y_test = train_test_split(\n",
    "    dataset_df.drop(['valid_or_not'], axis=1),\n",
    "    dataset_df['valid_or_not'],\n",
    "    test_size=0.2)"
   ]
  },
  {
   "cell_type": "code",
   "execution_count": 8,
   "metadata": {},
   "outputs": [
    {
     "name": "stdout",
     "output_type": "stream",
     "text": [
      "For the training set,\n",
      "The imbalance profile has:\n",
      " 69.51% of valid products and         \n",
      " 30.49% of invalid products\n",
      "\n",
      "For the test set,\n",
      "The imbalance profile has:\n",
      " 72.17% of valid products and         \n",
      " 27.83% of invalid products\n"
     ]
    }
   ],
   "source": [
    "print('For the training set,')\n",
    "check_imbalance(y_train)\n",
    "print('\\nFor the test set,')\n",
    "check_imbalance(y_test)"
   ]
  },
  {
   "cell_type": "code",
   "execution_count": 33,
   "metadata": {},
   "outputs": [],
   "source": [
    "# Random Forest classificator evaluator function\n",
    "def rfc_train_evaluator(model_rfc, Xtrain, ytrain, Xtest, ytest) -> tuple:\n",
    "    model_rfc.fit(Xtrain, ytrain)\n",
    "    mean_accuracy = model_rfc.score(Xtest, ytest) * 100\n",
    "    y_predicted = model_rfc.predict(Xtest)\n",
    "    return (mean_accuracy, y_predicted)"
   ]
  },
  {
   "cell_type": "code",
   "execution_count": 34,
   "metadata": {},
   "outputs": [],
   "source": [
    "pilot_model_rfc = RandomForestClassifier()"
   ]
  },
  {
   "cell_type": "code",
   "execution_count": 35,
   "metadata": {},
   "outputs": [
    {
     "data": {
      "text/html": [
       "<style>#sk-container-id-2 {color: black;background-color: white;}#sk-container-id-2 pre{padding: 0;}#sk-container-id-2 div.sk-toggleable {background-color: white;}#sk-container-id-2 label.sk-toggleable__label {cursor: pointer;display: block;width: 100%;margin-bottom: 0;padding: 0.3em;box-sizing: border-box;text-align: center;}#sk-container-id-2 label.sk-toggleable__label-arrow:before {content: \"▸\";float: left;margin-right: 0.25em;color: #696969;}#sk-container-id-2 label.sk-toggleable__label-arrow:hover:before {color: black;}#sk-container-id-2 div.sk-estimator:hover label.sk-toggleable__label-arrow:before {color: black;}#sk-container-id-2 div.sk-toggleable__content {max-height: 0;max-width: 0;overflow: hidden;text-align: left;background-color: #f0f8ff;}#sk-container-id-2 div.sk-toggleable__content pre {margin: 0.2em;color: black;border-radius: 0.25em;background-color: #f0f8ff;}#sk-container-id-2 input.sk-toggleable__control:checked~div.sk-toggleable__content {max-height: 200px;max-width: 100%;overflow: auto;}#sk-container-id-2 input.sk-toggleable__control:checked~label.sk-toggleable__label-arrow:before {content: \"▾\";}#sk-container-id-2 div.sk-estimator input.sk-toggleable__control:checked~label.sk-toggleable__label {background-color: #d4ebff;}#sk-container-id-2 div.sk-label input.sk-toggleable__control:checked~label.sk-toggleable__label {background-color: #d4ebff;}#sk-container-id-2 input.sk-hidden--visually {border: 0;clip: rect(1px 1px 1px 1px);clip: rect(1px, 1px, 1px, 1px);height: 1px;margin: -1px;overflow: hidden;padding: 0;position: absolute;width: 1px;}#sk-container-id-2 div.sk-estimator {font-family: monospace;background-color: #f0f8ff;border: 1px dotted black;border-radius: 0.25em;box-sizing: border-box;margin-bottom: 0.5em;}#sk-container-id-2 div.sk-estimator:hover {background-color: #d4ebff;}#sk-container-id-2 div.sk-parallel-item::after {content: \"\";width: 100%;border-bottom: 1px solid gray;flex-grow: 1;}#sk-container-id-2 div.sk-label:hover label.sk-toggleable__label {background-color: #d4ebff;}#sk-container-id-2 div.sk-serial::before {content: \"\";position: absolute;border-left: 1px solid gray;box-sizing: border-box;top: 0;bottom: 0;left: 50%;z-index: 0;}#sk-container-id-2 div.sk-serial {display: flex;flex-direction: column;align-items: center;background-color: white;padding-right: 0.2em;padding-left: 0.2em;position: relative;}#sk-container-id-2 div.sk-item {position: relative;z-index: 1;}#sk-container-id-2 div.sk-parallel {display: flex;align-items: stretch;justify-content: center;background-color: white;position: relative;}#sk-container-id-2 div.sk-item::before, #sk-container-id-2 div.sk-parallel-item::before {content: \"\";position: absolute;border-left: 1px solid gray;box-sizing: border-box;top: 0;bottom: 0;left: 50%;z-index: -1;}#sk-container-id-2 div.sk-parallel-item {display: flex;flex-direction: column;z-index: 1;position: relative;background-color: white;}#sk-container-id-2 div.sk-parallel-item:first-child::after {align-self: flex-end;width: 50%;}#sk-container-id-2 div.sk-parallel-item:last-child::after {align-self: flex-start;width: 50%;}#sk-container-id-2 div.sk-parallel-item:only-child::after {width: 0;}#sk-container-id-2 div.sk-dashed-wrapped {border: 1px dashed gray;margin: 0 0.4em 0.5em 0.4em;box-sizing: border-box;padding-bottom: 0.4em;background-color: white;}#sk-container-id-2 div.sk-label label {font-family: monospace;font-weight: bold;display: inline-block;line-height: 1.2em;}#sk-container-id-2 div.sk-label-container {text-align: center;}#sk-container-id-2 div.sk-container {/* jupyter's `normalize.less` sets `[hidden] { display: none; }` but bootstrap.min.css set `[hidden] { display: none !important; }` so we also need the `!important` here to be able to override the default hidden behavior on the sphinx rendered scikit-learn.org. See: https://github.com/scikit-learn/scikit-learn/issues/21755 */display: inline-block !important;position: relative;}#sk-container-id-2 div.sk-text-repr-fallback {display: none;}</style><div id=\"sk-container-id-2\" class=\"sk-top-container\"><div class=\"sk-text-repr-fallback\"><pre>RandomForestClassifier()</pre><b>In a Jupyter environment, please rerun this cell to show the HTML representation or trust the notebook. <br />On GitHub, the HTML representation is unable to render, please try loading this page with nbviewer.org.</b></div><div class=\"sk-container\" hidden><div class=\"sk-item\"><div class=\"sk-estimator sk-toggleable\"><input class=\"sk-toggleable__control sk-hidden--visually\" id=\"sk-estimator-id-2\" type=\"checkbox\" checked><label for=\"sk-estimator-id-2\" class=\"sk-toggleable__label sk-toggleable__label-arrow\">RandomForestClassifier</label><div class=\"sk-toggleable__content\"><pre>RandomForestClassifier()</pre></div></div></div></div></div>"
      ],
      "text/plain": [
       "RandomForestClassifier()"
      ]
     },
     "execution_count": 35,
     "metadata": {},
     "output_type": "execute_result"
    }
   ],
   "source": [
    "pilot_model_rfc.fit(X_train, y_train)"
   ]
  },
  {
   "cell_type": "code",
   "execution_count": 36,
   "metadata": {},
   "outputs": [],
   "source": [
    "pilot_accuracy, pilot_predictions = rfc_train_evaluator(pilot_model_rfc, X_train, y_train, X_test, y_test)\n",
    "cm = confusion_matrix(y_test, pilot_predictions)"
   ]
  },
  {
   "cell_type": "code",
   "execution_count": 37,
   "metadata": {},
   "outputs": [
    {
     "data": {
      "image/png": "[encoded data removed]",
      "text/plain": [
       "<Figure size 1400x800 with 2 Axes>"
      ]
     },
     "metadata": {},
     "output_type": "display_data"
    }
   ],
   "source": [
    "fig_rfc = plt.figure(figsize=[14, 8])\n",
    "fs = 20  # fontsize\n",
    "lw = 5  # linewidth\n",
    "fig_rfc.suptitle(\"F1 Score Random Forest with 100 Estimators\", fontsize=fs)\n",
    "sn.heatmap(cm, annot=True, fmt=\"\")\n",
    "plt.xlabel(\"Predicted\")\n",
    "plt.ylabel(\"Truth\")\n",
    "plt.show()"
   ]
  },
  {
   "cell_type": "code",
   "execution_count": 38,
   "metadata": {},
   "outputs": [
    {
     "name": "stdout",
     "output_type": "stream",
     "text": [
      "The f1 scores for the not valid and valid classes are respectively 0.27 and 0.83\n"
     ]
    }
   ],
   "source": [
    "f1_scores = f1_score(y_test, pilot_predictions, average=None)\n",
    "print(f\"The f1 scores for the not valid and valid classes are respectively {f1_scores[0]:.2f} and {f1_scores[1]:.2f}\")"
   ]
  },
  {
   "cell_type": "markdown",
   "metadata": {},
   "source": [
    "SMOTE- We can see that the minority class has low f1-score\n",
    "## Oversampling the minority class using SMOTE\n",
    "- We will SMOTE from the imbalance-learn library which use knn to generated new datapoints for the minority class"
   ]
  },
  {
   "cell_type": "code",
   "execution_count": 39,
   "metadata": {},
   "outputs": [],
   "source": [
    "X = dataset_df.drop('valid_or_not',axis='columns')\n",
    "y = dataset_df['valid_or_not']"
   ]
  },
  {
   "cell_type": "code",
   "execution_count": 40,
   "metadata": {},
   "outputs": [
    {
     "data": {
      "text/html": [
       "<div>\n",
       "<style scoped>\n",
       "    .dataframe tbody tr th:only-of-type {\n",
       "        vertical-align: middle;\n",
       "    }\n",
       "\n",
       "    .dataframe tbody tr th {\n",
       "        vertical-align: top;\n",
       "    }\n",
       "\n",
       "    .dataframe thead th {\n",
       "        text-align: right;\n",
       "    }\n",
       "</style>\n",
       "<table border=\"1\" class=\"dataframe\">\n",
       "  <thead>\n",
       "    <tr style=\"text-align: right;\">\n",
       "      <th></th>\n",
       "      <th>ramposition__symmetry_looking__r_0.05</th>\n",
       "      <th>ramposition__number_cwt_peaks__n_1</th>\n",
       "      <th>ramposition__number_cwt_peaks__n_5</th>\n",
       "      <th>ramposition__cwt_coefficients__coeff_4__w_2__widths_(2, 5, 10, 20)</th>\n",
       "      <th>ramposition__fft_coefficient__attr_\"real\"__coeff_26</th>\n",
       "      <th>ramposition__fft_coefficient__attr_\"real\"__coeff_27</th>\n",
       "      <th>ramposition__fft_coefficient__attr_\"real\"__coeff_28</th>\n",
       "      <th>ramposition__fft_coefficient__attr_\"real\"__coeff_34</th>\n",
       "      <th>ramposition__fft_coefficient__attr_\"real\"__coeff_56</th>\n",
       "      <th>ramposition__fft_coefficient__attr_\"imag\"__coeff_46</th>\n",
       "      <th>...</th>\n",
       "      <th>sensor_pressure_time__agg_linear_trend__attr_\"stderr\"__chunk_len_10__f_agg_\"min\"</th>\n",
       "      <th>sensor_pressure_time__energy_ratio_by_chunks__num_segments_10__segment_focus_1</th>\n",
       "      <th>sensor_pressure_time__energy_ratio_by_chunks__num_segments_10__segment_focus_2</th>\n",
       "      <th>sensor_pressure_time__energy_ratio_by_chunks__num_segments_10__segment_focus_3</th>\n",
       "      <th>sensor_pressure_time__energy_ratio_by_chunks__num_segments_10__segment_focus_4</th>\n",
       "      <th>sensor_pressure_time__energy_ratio_by_chunks__num_segments_10__segment_focus_5</th>\n",
       "      <th>sensor_pressure_time__energy_ratio_by_chunks__num_segments_10__segment_focus_6</th>\n",
       "      <th>sensor_pressure_time__ratio_beyond_r_sigma__r_1</th>\n",
       "      <th>sensor_pressure_time__ratio_beyond_r_sigma__r_1.5</th>\n",
       "      <th>sensor_pressure_time__lempel_ziv_complexity__bins_10</th>\n",
       "    </tr>\n",
       "  </thead>\n",
       "  <tbody>\n",
       "    <tr>\n",
       "      <th>0</th>\n",
       "      <td>1.0</td>\n",
       "      <td>17.0</td>\n",
       "      <td>13.0</td>\n",
       "      <td>0.023171</td>\n",
       "      <td>0.031487</td>\n",
       "      <td>0.036913</td>\n",
       "      <td>0.034420</td>\n",
       "      <td>0.031473</td>\n",
       "      <td>0.032431</td>\n",
       "      <td>-0.032198</td>\n",
       "      <td>...</td>\n",
       "      <td>0.098394</td>\n",
       "      <td>0.000819</td>\n",
       "      <td>0.001554</td>\n",
       "      <td>0.002516</td>\n",
       "      <td>0.003723</td>\n",
       "      <td>0.005158</td>\n",
       "      <td>0.006760</td>\n",
       "      <td>0.149606</td>\n",
       "      <td>0.118110</td>\n",
       "      <td>0.251969</td>\n",
       "    </tr>\n",
       "    <tr>\n",
       "      <th>1</th>\n",
       "      <td>0.0</td>\n",
       "      <td>15.0</td>\n",
       "      <td>15.0</td>\n",
       "      <td>0.023184</td>\n",
       "      <td>0.033079</td>\n",
       "      <td>0.035980</td>\n",
       "      <td>0.033703</td>\n",
       "      <td>0.031803</td>\n",
       "      <td>0.032820</td>\n",
       "      <td>-0.030895</td>\n",
       "      <td>...</td>\n",
       "      <td>0.091011</td>\n",
       "      <td>0.000840</td>\n",
       "      <td>0.001592</td>\n",
       "      <td>0.002587</td>\n",
       "      <td>0.003822</td>\n",
       "      <td>0.005301</td>\n",
       "      <td>0.006941</td>\n",
       "      <td>0.153846</td>\n",
       "      <td>0.123077</td>\n",
       "      <td>0.246154</td>\n",
       "    </tr>\n",
       "    <tr>\n",
       "      <th>2</th>\n",
       "      <td>0.0</td>\n",
       "      <td>16.0</td>\n",
       "      <td>16.0</td>\n",
       "      <td>0.023149</td>\n",
       "      <td>0.031477</td>\n",
       "      <td>0.035799</td>\n",
       "      <td>0.035498</td>\n",
       "      <td>0.031927</td>\n",
       "      <td>0.033760</td>\n",
       "      <td>-0.031910</td>\n",
       "      <td>...</td>\n",
       "      <td>0.107187</td>\n",
       "      <td>0.000940</td>\n",
       "      <td>0.001764</td>\n",
       "      <td>0.002831</td>\n",
       "      <td>0.004164</td>\n",
       "      <td>0.005747</td>\n",
       "      <td>0.007492</td>\n",
       "      <td>0.152672</td>\n",
       "      <td>0.122137</td>\n",
       "      <td>0.244275</td>\n",
       "    </tr>\n",
       "    <tr>\n",
       "      <th>3</th>\n",
       "      <td>1.0</td>\n",
       "      <td>11.0</td>\n",
       "      <td>11.0</td>\n",
       "      <td>0.023208</td>\n",
       "      <td>0.033024</td>\n",
       "      <td>0.036715</td>\n",
       "      <td>0.032597</td>\n",
       "      <td>0.031617</td>\n",
       "      <td>0.033582</td>\n",
       "      <td>-0.030984</td>\n",
       "      <td>...</td>\n",
       "      <td>0.094567</td>\n",
       "      <td>0.000867</td>\n",
       "      <td>0.001646</td>\n",
       "      <td>0.002668</td>\n",
       "      <td>0.003941</td>\n",
       "      <td>0.005464</td>\n",
       "      <td>0.007167</td>\n",
       "      <td>0.155039</td>\n",
       "      <td>0.116279</td>\n",
       "      <td>0.248062</td>\n",
       "    </tr>\n",
       "    <tr>\n",
       "      <th>4</th>\n",
       "      <td>1.0</td>\n",
       "      <td>18.0</td>\n",
       "      <td>15.0</td>\n",
       "      <td>0.023171</td>\n",
       "      <td>0.032825</td>\n",
       "      <td>0.035859</td>\n",
       "      <td>0.034547</td>\n",
       "      <td>0.031930</td>\n",
       "      <td>0.033091</td>\n",
       "      <td>-0.032218</td>\n",
       "      <td>...</td>\n",
       "      <td>0.091098</td>\n",
       "      <td>0.000862</td>\n",
       "      <td>0.001634</td>\n",
       "      <td>0.002650</td>\n",
       "      <td>0.003914</td>\n",
       "      <td>0.005419</td>\n",
       "      <td>0.007110</td>\n",
       "      <td>0.147287</td>\n",
       "      <td>0.116279</td>\n",
       "      <td>0.248062</td>\n",
       "    </tr>\n",
       "  </tbody>\n",
       "</table>\n",
       "<p>5 rows × 453 columns</p>\n",
       "</div>"
      ],
      "text/plain": [
       "   ramposition__symmetry_looking__r_0.05  ramposition__number_cwt_peaks__n_1  \\\n",
       "0                                    1.0                                17.0   \n",
       "1                                    0.0                                15.0   \n",
       "2                                    0.0                                16.0   \n",
       "3                                    1.0                                11.0   \n",
       "4                                    1.0                                18.0   \n",
       "\n",
       "   ramposition__number_cwt_peaks__n_5  \\\n",
       "0                                13.0   \n",
       "1                                15.0   \n",
       "2                                16.0   \n",
       "3                                11.0   \n",
       "4                                15.0   \n",
       "\n",
       "   ramposition__cwt_coefficients__coeff_4__w_2__widths_(2, 5, 10, 20)  \\\n",
       "0                                           0.023171                    \n",
       "1                                           0.023184                    \n",
       "2                                           0.023149                    \n",
       "3                                           0.023208                    \n",
       "4                                           0.023171                    \n",
       "\n",
       "   ramposition__fft_coefficient__attr_\"real\"__coeff_26  \\\n",
       "0                                           0.031487     \n",
       "1                                           0.033079     \n",
       "2                                           0.031477     \n",
       "3                                           0.033024     \n",
       "4                                           0.032825     \n",
       "\n",
       "   ramposition__fft_coefficient__attr_\"real\"__coeff_27  \\\n",
       "0                                           0.036913     \n",
       "1                                           0.035980     \n",
       "2                                           0.035799     \n",
       "3                                           0.036715     \n",
       "4                                           0.035859     \n",
       "\n",
       "   ramposition__fft_coefficient__attr_\"real\"__coeff_28  \\\n",
       "0                                           0.034420     \n",
       "1                                           0.033703     \n",
       "2                                           0.035498     \n",
       "3                                           0.032597     \n",
       "4                                           0.034547     \n",
       "\n",
       "   ramposition__fft_coefficient__attr_\"real\"__coeff_34  \\\n",
       "0                                           0.031473     \n",
       "1                                           0.031803     \n",
       "2                                           0.031927     \n",
       "3                                           0.031617     \n",
       "4                                           0.031930     \n",
       "\n",
       "   ramposition__fft_coefficient__attr_\"real\"__coeff_56  \\\n",
       "0                                           0.032431     \n",
       "1                                           0.032820     \n",
       "2                                           0.033760     \n",
       "3                                           0.033582     \n",
       "4                                           0.033091     \n",
       "\n",
       "   ramposition__fft_coefficient__attr_\"imag\"__coeff_46  ...  \\\n",
       "0                                          -0.032198    ...   \n",
       "1                                          -0.030895    ...   \n",
       "2                                          -0.031910    ...   \n",
       "3                                          -0.030984    ...   \n",
       "4                                          -0.032218    ...   \n",
       "\n",
       "   sensor_pressure_time__agg_linear_trend__attr_\"stderr\"__chunk_len_10__f_agg_\"min\"  \\\n",
       "0                                           0.098394                                  \n",
       "1                                           0.091011                                  \n",
       "2                                           0.107187                                  \n",
       "3                                           0.094567                                  \n",
       "4                                           0.091098                                  \n",
       "\n",
       "   sensor_pressure_time__energy_ratio_by_chunks__num_segments_10__segment_focus_1  \\\n",
       "0                                           0.000819                                \n",
       "1                                           0.000840                                \n",
       "2                                           0.000940                                \n",
       "3                                           0.000867                                \n",
       "4                                           0.000862                                \n",
       "\n",
       "   sensor_pressure_time__energy_ratio_by_chunks__num_segments_10__segment_focus_2  \\\n",
       "0                                           0.001554                                \n",
       "1                                           0.001592                                \n",
       "2                                           0.001764                                \n",
       "3                                           0.001646                                \n",
       "4                                           0.001634                                \n",
       "\n",
       "   sensor_pressure_time__energy_ratio_by_chunks__num_segments_10__segment_focus_3  \\\n",
       "0                                           0.002516                                \n",
       "1                                           0.002587                                \n",
       "2                                           0.002831                                \n",
       "3                                           0.002668                                \n",
       "4                                           0.002650                                \n",
       "\n",
       "   sensor_pressure_time__energy_ratio_by_chunks__num_segments_10__segment_focus_4  \\\n",
       "0                                           0.003723                                \n",
       "1                                           0.003822                                \n",
       "2                                           0.004164                                \n",
       "3                                           0.003941                                \n",
       "4                                           0.003914                                \n",
       "\n",
       "   sensor_pressure_time__energy_ratio_by_chunks__num_segments_10__segment_focus_5  \\\n",
       "0                                           0.005158                                \n",
       "1                                           0.005301                                \n",
       "2                                           0.005747                                \n",
       "3                                           0.005464                                \n",
       "4                                           0.005419                                \n",
       "\n",
       "   sensor_pressure_time__energy_ratio_by_chunks__num_segments_10__segment_focus_6  \\\n",
       "0                                           0.006760                                \n",
       "1                                           0.006941                                \n",
       "2                                           0.007492                                \n",
       "3                                           0.007167                                \n",
       "4                                           0.007110                                \n",
       "\n",
       "   sensor_pressure_time__ratio_beyond_r_sigma__r_1  \\\n",
       "0                                         0.149606   \n",
       "1                                         0.153846   \n",
       "2                                         0.152672   \n",
       "3                                         0.155039   \n",
       "4                                         0.147287   \n",
       "\n",
       "   sensor_pressure_time__ratio_beyond_r_sigma__r_1.5  \\\n",
       "0                                           0.118110   \n",
       "1                                           0.123077   \n",
       "2                                           0.122137   \n",
       "3                                           0.116279   \n",
       "4                                           0.116279   \n",
       "\n",
       "   sensor_pressure_time__lempel_ziv_complexity__bins_10  \n",
       "0                                           0.251969     \n",
       "1                                           0.246154     \n",
       "2                                           0.244275     \n",
       "3                                           0.248062     \n",
       "4                                           0.248062     \n",
       "\n",
       "[5 rows x 453 columns]"
      ]
     },
     "execution_count": 40,
     "metadata": {},
     "output_type": "execute_result"
    }
   ],
   "source": [
    "X.head()"
   ]
  },
  {
   "cell_type": "code",
   "execution_count": 41,
   "metadata": {},
   "outputs": [
    {
     "data": {
      "text/plain": [
       "1    1080\n",
       "0     462\n",
       "Name: valid_or_not, dtype: int64"
      ]
     },
     "execution_count": 41,
     "metadata": {},
     "output_type": "execute_result"
    }
   ],
   "source": [
    "y.value_counts()"
   ]
  },
  {
   "cell_type": "code",
   "execution_count": 42,
   "metadata": {},
   "outputs": [
    {
     "data": {
      "text/plain": [
       "1    1080\n",
       "0    1080\n",
       "Name: valid_or_not, dtype: int64"
      ]
     },
     "execution_count": 42,
     "metadata": {},
     "output_type": "execute_result"
    }
   ],
   "source": [
    "smote = SMOTE(sampling_strategy='minority')\n",
    "X_sm, y_sm = smote.fit_resample(X, y)\n",
    "y_sm.value_counts()"
   ]
  },
  {
   "cell_type": "code",
   "execution_count": 43,
   "metadata": {},
   "outputs": [],
   "source": [
    "X_rtrain, X_rtest, y_rtrain, y_rtest = train_test_split(X_sm, y_sm, test_size=0.2)"
   ]
  },
  {
   "cell_type": "code",
   "execution_count": 44,
   "metadata": {},
   "outputs": [
    {
     "name": "stdout",
     "output_type": "stream",
     "text": [
      "0    881\n",
      "1    847\n",
      "Name: valid_or_not, dtype: int64\n",
      "1    233\n",
      "0    199\n",
      "Name: valid_or_not, dtype: int64\n"
     ]
    }
   ],
   "source": [
    "print(y_rtrain.value_counts())\n",
    "print(y_rtest.value_counts())"
   ]
  },
  {
   "cell_type": "code",
   "execution_count": 46,
   "metadata": {},
   "outputs": [],
   "source": [
    "r_pilot_accuracy, r_pilot_predictions = rfc_train_evaluator(pilot_model_rfc, X_rtrain, y_rtrain, X_rtest, y_rtest)\n",
    "rcm = confusion_matrix(y_rtest, r_pilot_predictions)"
   ]
  },
  {
   "cell_type": "code",
   "execution_count": 47,
   "metadata": {},
   "outputs": [
    {
     "data": {
      "image/png": "[encoded data removed]",
      "text/plain": [
       "<Figure size 1400x800 with 2 Axes>"
      ]
     },
     "metadata": {},
     "output_type": "display_data"
    }
   ],
   "source": [
    "fig_rfc = plt.figure(figsize=[14, 8])\n",
    "fs = 20  # fontsize\n",
    "lw = 5  # linewidth\n",
    "fig_rfc.suptitle(\"F1 Score Random Forest with 100 Estimators\", fontsize=fs)\n",
    "sn.heatmap(rcm, annot=True, fmt=\"\")\n",
    "plt.xlabel(\"Predicted\")\n",
    "plt.ylabel(\"Truth\")\n",
    "plt.show()"
   ]
  },
  {
   "cell_type": "code",
   "execution_count": 50,
   "metadata": {},
   "outputs": [
    {
     "name": "stdout",
     "output_type": "stream",
     "text": [
      "The f1 scores for the not valid and valid classes are respectively 0.78 and 0.80\n"
     ]
    }
   ],
   "source": [
    "f1_rscores = f1_score(y_rtest, r_pilot_predictions, average=None)\n",
    "print(f\"The f1 scores for the not valid and valid classes are respectively {f1_rscores[0]:.2f} and {f1_rscores[1]:.2f}\")"
   ]
  },
  {
   "cell_type": "markdown",
   "metadata": {},
   "source": [
    "## Conclusions\n",
    "- The smote oversampling technique allows to improve the minority class f1 score up to 78%.\n",
    "- The SMOTE is based on knn and can help to produce new synthetic data by means of oversampling the minority class."
   ]
  },
  {
   "cell_type": "markdown",
   "metadata": {},
   "source": [
    "## TODO\n",
    "- Explore resampling technique besides **sample_strategy**=`minority`, to `all` (undersampling and oversampling)\n",
    "- Perform a research grid for the parameter tunning of the Random Forest Algorithm\n",
    "- Change p-value and determine a better minimum p-value that avoids overfitting\n",
    "- Explore other ML algorithms besides random forest"
   ]
  }
 ],
 "metadata": {
  "kernelspec": {
   "display_name": "Python 3 (ipykernel)",
   "language": "python",
   "name": "python3"
  },
  "language_info": {
   "codemirror_mode": {
    "name": "ipython",
    "version": 3
   },
   "file_extension": ".py",
   "mimetype": "text/x-python",
   "name": "python",
   "nbconvert_exporter": "python",
   "pygments_lexer": "ipython3",
   "version": "3.10.6"
  },
  "vscode": {
   "interpreter": {
    "hash": "9be56d37fc75c187c42f0d28adc94f3825638e5e999f1aa6fcbda1803cc337a6"
   }
  }
 },
 "nbformat": 4,
 "nbformat_minor": 4
}
