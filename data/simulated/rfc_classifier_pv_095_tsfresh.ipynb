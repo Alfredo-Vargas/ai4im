{
 "cells": [
  {
   "cell_type": "markdown",
   "metadata": {},
   "source": [
    "# Random Forest Classifier for Injection Molding of Bins using tsfresh data"
   ]
  },
  {
   "cell_type": "code",
   "execution_count": 1,
   "metadata": {},
   "outputs": [],
   "source": [
    "# For data exploration\n",
    "import matplotlib.pyplot as plt\n",
    "import numpy as np\n",
    "import pandas as pd\n",
    "# For Machine Learning\n",
    "from sklearn.model_selection import train_test_split\n",
    "from sklearn.ensemble import RandomForestClassifier\n",
    "from sklearn.metrics import confusion_matrix, f1_score\n",
    "import my_preprocessing_functions as mpf\n",
    "\n",
    "# For displaying results\n",
    "import seaborn as sn\n",
    "import os"
   ]
  },
  {
   "cell_type": "code",
   "execution_count": 2,
   "metadata": {},
   "outputs": [],
   "source": [
    "filename = 'extracted_features_with_pv_0.01.csv'\n",
    "data_path = os.getcwd() + \"/Data/\"\n",
    "dataset_df = pd.read_csv(data_path + filename)"
   ]
  },
  {
   "cell_type": "code",
   "execution_count": 3,
   "metadata": {},
   "outputs": [
    {
     "data": {
      "text/html": [
       "<div>\n",
       "<style scoped>\n",
       "    .dataframe tbody tr th:only-of-type {\n",
       "        vertical-align: middle;\n",
       "    }\n",
       "\n",
       "    .dataframe tbody tr th {\n",
       "        vertical-align: top;\n",
       "    }\n",
       "\n",
       "    .dataframe thead th {\n",
       "        text-align: right;\n",
       "    }\n",
       "</style>\n",
       "<table border=\"1\" class=\"dataframe\">\n",
       "  <thead>\n",
       "    <tr style=\"text-align: right;\">\n",
       "      <th></th>\n",
       "      <th>Unnamed: 0</th>\n",
       "      <th>ramposition__number_cwt_peaks__n_5</th>\n",
       "      <th>ramposition__fft_coefficient__attr_\"real\"__coeff_27</th>\n",
       "      <th>ramposition__fft_coefficient__attr_\"real\"__coeff_34</th>\n",
       "      <th>ramposition__fft_coefficient__attr_\"angle\"__coeff_26</th>\n",
       "      <th>ramposition__fft_coefficient__attr_\"angle\"__coeff_37</th>\n",
       "      <th>ramposition__fft_coefficient__attr_\"angle\"__coeff_40</th>\n",
       "      <th>ramposition__fft_coefficient__attr_\"angle\"__coeff_79</th>\n",
       "      <th>ramposition__lempel_ziv_complexity__bins_100</th>\n",
       "      <th>ramposition_time__fft_coefficient__attr_\"real\"__coeff_34</th>\n",
       "      <th>...</th>\n",
       "      <th>sensor_pressure_time__fft_coefficient__attr_\"angle\"__coeff_18</th>\n",
       "      <th>sensor_pressure_time__fft_coefficient__attr_\"angle\"__coeff_22</th>\n",
       "      <th>sensor_pressure_time__fft_coefficient__attr_\"angle\"__coeff_25</th>\n",
       "      <th>sensor_pressure_time__fft_coefficient__attr_\"angle\"__coeff_27</th>\n",
       "      <th>sensor_pressure_time__agg_linear_trend__attr_\"rvalue\"__chunk_len_50__f_agg_\"mean\"</th>\n",
       "      <th>sensor_pressure_time__energy_ratio_by_chunks__num_segments_10__segment_focus_3</th>\n",
       "      <th>sensor_pressure_time__energy_ratio_by_chunks__num_segments_10__segment_focus_4</th>\n",
       "      <th>sensor_pressure_time__energy_ratio_by_chunks__num_segments_10__segment_focus_5</th>\n",
       "      <th>sensor_pressure_time__energy_ratio_by_chunks__num_segments_10__segment_focus_6</th>\n",
       "      <th>valid_or_not</th>\n",
       "    </tr>\n",
       "  </thead>\n",
       "  <tbody>\n",
       "    <tr>\n",
       "      <th>0</th>\n",
       "      <td>0</td>\n",
       "      <td>13.0</td>\n",
       "      <td>0.036913</td>\n",
       "      <td>0.031473</td>\n",
       "      <td>-64.767665</td>\n",
       "      <td>-53.355534</td>\n",
       "      <td>-51.710974</td>\n",
       "      <td>-9.374110</td>\n",
       "      <td>0.632184</td>\n",
       "      <td>-9.823924</td>\n",
       "      <td>...</td>\n",
       "      <td>115.887430</td>\n",
       "      <td>122.295279</td>\n",
       "      <td>125.857211</td>\n",
       "      <td>128.665900</td>\n",
       "      <td>0.896443</td>\n",
       "      <td>0.002516</td>\n",
       "      <td>0.003723</td>\n",
       "      <td>0.005158</td>\n",
       "      <td>0.006760</td>\n",
       "      <td>1</td>\n",
       "    </tr>\n",
       "    <tr>\n",
       "      <th>1</th>\n",
       "      <td>1</td>\n",
       "      <td>15.0</td>\n",
       "      <td>0.035980</td>\n",
       "      <td>0.031803</td>\n",
       "      <td>-63.872763</td>\n",
       "      <td>-53.822133</td>\n",
       "      <td>-49.520055</td>\n",
       "      <td>-8.289922</td>\n",
       "      <td>0.627119</td>\n",
       "      <td>-9.733922</td>\n",
       "      <td>...</td>\n",
       "      <td>116.003246</td>\n",
       "      <td>121.769883</td>\n",
       "      <td>125.494392</td>\n",
       "      <td>128.110645</td>\n",
       "      <td>0.898174</td>\n",
       "      <td>0.002587</td>\n",
       "      <td>0.003822</td>\n",
       "      <td>0.005301</td>\n",
       "      <td>0.006941</td>\n",
       "      <td>1</td>\n",
       "    </tr>\n",
       "    <tr>\n",
       "      <th>2</th>\n",
       "      <td>2</td>\n",
       "      <td>16.0</td>\n",
       "      <td>0.035799</td>\n",
       "      <td>0.031927</td>\n",
       "      <td>-64.832958</td>\n",
       "      <td>-53.121633</td>\n",
       "      <td>-51.051893</td>\n",
       "      <td>-10.163140</td>\n",
       "      <td>0.629213</td>\n",
       "      <td>-9.761975</td>\n",
       "      <td>...</td>\n",
       "      <td>116.513385</td>\n",
       "      <td>122.328672</td>\n",
       "      <td>125.731397</td>\n",
       "      <td>128.274306</td>\n",
       "      <td>0.899917</td>\n",
       "      <td>0.002831</td>\n",
       "      <td>0.004164</td>\n",
       "      <td>0.005747</td>\n",
       "      <td>0.007492</td>\n",
       "      <td>1</td>\n",
       "    </tr>\n",
       "    <tr>\n",
       "      <th>3</th>\n",
       "      <td>3</td>\n",
       "      <td>11.0</td>\n",
       "      <td>0.036715</td>\n",
       "      <td>0.031617</td>\n",
       "      <td>-64.265876</td>\n",
       "      <td>-53.308805</td>\n",
       "      <td>-49.517241</td>\n",
       "      <td>-7.751796</td>\n",
       "      <td>0.625000</td>\n",
       "      <td>-9.703095</td>\n",
       "      <td>...</td>\n",
       "      <td>115.995170</td>\n",
       "      <td>121.868618</td>\n",
       "      <td>125.867359</td>\n",
       "      <td>128.342362</td>\n",
       "      <td>0.898130</td>\n",
       "      <td>0.002668</td>\n",
       "      <td>0.003941</td>\n",
       "      <td>0.005464</td>\n",
       "      <td>0.007167</td>\n",
       "      <td>1</td>\n",
       "    </tr>\n",
       "    <tr>\n",
       "      <th>4</th>\n",
       "      <td>4</td>\n",
       "      <td>15.0</td>\n",
       "      <td>0.035859</td>\n",
       "      <td>0.031930</td>\n",
       "      <td>-63.777411</td>\n",
       "      <td>-52.712442</td>\n",
       "      <td>-50.427247</td>\n",
       "      <td>-10.251090</td>\n",
       "      <td>0.630682</td>\n",
       "      <td>-9.559814</td>\n",
       "      <td>...</td>\n",
       "      <td>115.463086</td>\n",
       "      <td>121.168742</td>\n",
       "      <td>124.916480</td>\n",
       "      <td>128.229129</td>\n",
       "      <td>0.898035</td>\n",
       "      <td>0.002650</td>\n",
       "      <td>0.003914</td>\n",
       "      <td>0.005419</td>\n",
       "      <td>0.007110</td>\n",
       "      <td>1</td>\n",
       "    </tr>\n",
       "  </tbody>\n",
       "</table>\n",
       "<p>5 rows × 90 columns</p>\n",
       "</div>"
      ],
      "text/plain": [
       "   Unnamed: 0  ramposition__number_cwt_peaks__n_5  \\\n",
       "0           0                                13.0   \n",
       "1           1                                15.0   \n",
       "2           2                                16.0   \n",
       "3           3                                11.0   \n",
       "4           4                                15.0   \n",
       "\n",
       "   ramposition__fft_coefficient__attr_\"real\"__coeff_27  \\\n",
       "0                                           0.036913     \n",
       "1                                           0.035980     \n",
       "2                                           0.035799     \n",
       "3                                           0.036715     \n",
       "4                                           0.035859     \n",
       "\n",
       "   ramposition__fft_coefficient__attr_\"real\"__coeff_34  \\\n",
       "0                                           0.031473     \n",
       "1                                           0.031803     \n",
       "2                                           0.031927     \n",
       "3                                           0.031617     \n",
       "4                                           0.031930     \n",
       "\n",
       "   ramposition__fft_coefficient__attr_\"angle\"__coeff_26  \\\n",
       "0                                         -64.767665      \n",
       "1                                         -63.872763      \n",
       "2                                         -64.832958      \n",
       "3                                         -64.265876      \n",
       "4                                         -63.777411      \n",
       "\n",
       "   ramposition__fft_coefficient__attr_\"angle\"__coeff_37  \\\n",
       "0                                         -53.355534      \n",
       "1                                         -53.822133      \n",
       "2                                         -53.121633      \n",
       "3                                         -53.308805      \n",
       "4                                         -52.712442      \n",
       "\n",
       "   ramposition__fft_coefficient__attr_\"angle\"__coeff_40  \\\n",
       "0                                         -51.710974      \n",
       "1                                         -49.520055      \n",
       "2                                         -51.051893      \n",
       "3                                         -49.517241      \n",
       "4                                         -50.427247      \n",
       "\n",
       "   ramposition__fft_coefficient__attr_\"angle\"__coeff_79  \\\n",
       "0                                          -9.374110      \n",
       "1                                          -8.289922      \n",
       "2                                         -10.163140      \n",
       "3                                          -7.751796      \n",
       "4                                         -10.251090      \n",
       "\n",
       "   ramposition__lempel_ziv_complexity__bins_100  \\\n",
       "0                                      0.632184   \n",
       "1                                      0.627119   \n",
       "2                                      0.629213   \n",
       "3                                      0.625000   \n",
       "4                                      0.630682   \n",
       "\n",
       "   ramposition_time__fft_coefficient__attr_\"real\"__coeff_34  ...  \\\n",
       "0                                          -9.823924         ...   \n",
       "1                                          -9.733922         ...   \n",
       "2                                          -9.761975         ...   \n",
       "3                                          -9.703095         ...   \n",
       "4                                          -9.559814         ...   \n",
       "\n",
       "   sensor_pressure_time__fft_coefficient__attr_\"angle\"__coeff_18  \\\n",
       "0                                         115.887430               \n",
       "1                                         116.003246               \n",
       "2                                         116.513385               \n",
       "3                                         115.995170               \n",
       "4                                         115.463086               \n",
       "\n",
       "   sensor_pressure_time__fft_coefficient__attr_\"angle\"__coeff_22  \\\n",
       "0                                         122.295279               \n",
       "1                                         121.769883               \n",
       "2                                         122.328672               \n",
       "3                                         121.868618               \n",
       "4                                         121.168742               \n",
       "\n",
       "   sensor_pressure_time__fft_coefficient__attr_\"angle\"__coeff_25  \\\n",
       "0                                         125.857211               \n",
       "1                                         125.494392               \n",
       "2                                         125.731397               \n",
       "3                                         125.867359               \n",
       "4                                         124.916480               \n",
       "\n",
       "   sensor_pressure_time__fft_coefficient__attr_\"angle\"__coeff_27  \\\n",
       "0                                         128.665900               \n",
       "1                                         128.110645               \n",
       "2                                         128.274306               \n",
       "3                                         128.342362               \n",
       "4                                         128.229129               \n",
       "\n",
       "   sensor_pressure_time__agg_linear_trend__attr_\"rvalue\"__chunk_len_50__f_agg_\"mean\"  \\\n",
       "0                                           0.896443                                   \n",
       "1                                           0.898174                                   \n",
       "2                                           0.899917                                   \n",
       "3                                           0.898130                                   \n",
       "4                                           0.898035                                   \n",
       "\n",
       "   sensor_pressure_time__energy_ratio_by_chunks__num_segments_10__segment_focus_3  \\\n",
       "0                                           0.002516                                \n",
       "1                                           0.002587                                \n",
       "2                                           0.002831                                \n",
       "3                                           0.002668                                \n",
       "4                                           0.002650                                \n",
       "\n",
       "   sensor_pressure_time__energy_ratio_by_chunks__num_segments_10__segment_focus_4  \\\n",
       "0                                           0.003723                                \n",
       "1                                           0.003822                                \n",
       "2                                           0.004164                                \n",
       "3                                           0.003941                                \n",
       "4                                           0.003914                                \n",
       "\n",
       "   sensor_pressure_time__energy_ratio_by_chunks__num_segments_10__segment_focus_5  \\\n",
       "0                                           0.005158                                \n",
       "1                                           0.005301                                \n",
       "2                                           0.005747                                \n",
       "3                                           0.005464                                \n",
       "4                                           0.005419                                \n",
       "\n",
       "   sensor_pressure_time__energy_ratio_by_chunks__num_segments_10__segment_focus_6  \\\n",
       "0                                           0.006760                                \n",
       "1                                           0.006941                                \n",
       "2                                           0.007492                                \n",
       "3                                           0.007167                                \n",
       "4                                           0.007110                                \n",
       "\n",
       "   valid_or_not  \n",
       "0             1  \n",
       "1             1  \n",
       "2             1  \n",
       "3             1  \n",
       "4             1  \n",
       "\n",
       "[5 rows x 90 columns]"
      ]
     },
     "execution_count": 3,
     "metadata": {},
     "output_type": "execute_result"
    }
   ],
   "source": [
    "dataset_df.head()"
   ]
  },
  {
   "cell_type": "code",
   "execution_count": 4,
   "metadata": {},
   "outputs": [],
   "source": [
    "dataset_df.drop(['Unnamed: 0'], axis=1, inplace=True)"
   ]
  },
  {
   "cell_type": "code",
   "execution_count": 5,
   "metadata": {},
   "outputs": [],
   "source": [
    "def check_imbalance(label: pd.Series) -> None:\n",
    "    pv = np.count_nonzero(label) / len(label) * 100\n",
    "    print(f\"The imbalance profile has:\\n {pv:.2f}% of valid products and \\\n",
    "        \\n {100 - pv:.2f}% of invalid products\")"
   ]
  },
  {
   "cell_type": "code",
   "execution_count": 6,
   "metadata": {},
   "outputs": [
    {
     "name": "stdout",
     "output_type": "stream",
     "text": [
      "For the full dataset,\n",
      "The imbalance profile has:\n",
      " 70.04% of valid products and         \n",
      " 29.96% of invalid products\n"
     ]
    }
   ],
   "source": [
    "print('For the full dataset,')\n",
    "check_imbalance(dataset_df['valid_or_not'])"
   ]
  },
  {
   "cell_type": "markdown",
   "metadata": {},
   "source": [
    "## Random Forest Pilot Test\n",
    "- We will perform quickly the random forest classifier to get an estimation of the initial f1 score for the minority class (invalid products)"
   ]
  },
  {
   "cell_type": "code",
   "execution_count": 7,
   "metadata": {},
   "outputs": [],
   "source": [
    "dataset_df = pd.read_csv(data_path + filename)\n",
    "features = dataset_df.drop(\"valid_or_not\", axis=1)\n",
    "labels = dataset_df[\"valid_or_not\"]\n",
    "features = features.pipe(mpf.normalize).pipe(mpf.drop_rows_with_only_nan_values)\n",
    "features, labels = mpf.balance(features, labels)\n",
    "X_train, X_test, y_train, y_test = train_test_split(features, labels, test_size=0.2)"
   ]
  },
  {
   "cell_type": "code",
   "execution_count": 8,
   "metadata": {},
   "outputs": [
    {
     "name": "stdout",
     "output_type": "stream",
     "text": [
      "For the training set,\n",
      "The imbalance profile has:\n",
      " 49.59% of valid products and         \n",
      " 50.41% of invalid products\n",
      "\n",
      "For the test set,\n",
      "The imbalance profile has:\n",
      " 51.62% of valid products and         \n",
      " 48.38% of invalid products\n"
     ]
    }
   ],
   "source": [
    "print('For the training set,')\n",
    "check_imbalance(y_train)\n",
    "print('\\nFor the test set,')\n",
    "check_imbalance(y_test)"
   ]
  },
  {
   "cell_type": "code",
   "execution_count": 9,
   "metadata": {},
   "outputs": [],
   "source": [
    "# Random Forest classificator evaluator function\n",
    "def rfc_train_evaluator(model_rfc, Xtrain, ytrain, Xtest, ytest) -> tuple:\n",
    "    model_rfc.fit(Xtrain, ytrain)\n",
    "    mean_accuracy = model_rfc.score(Xtest, ytest) * 100\n",
    "    y_predicted = model_rfc.predict(Xtest)\n",
    "    return (mean_accuracy, y_predicted)"
   ]
  },
  {
   "cell_type": "code",
   "execution_count": 10,
   "metadata": {},
   "outputs": [],
   "source": [
    "pilot_model_rfc = RandomForestClassifier(bootstrap=True, random_state=42, n_jobs=-1)"
   ]
  },
  {
   "cell_type": "code",
   "execution_count": 11,
   "metadata": {},
   "outputs": [
    {
     "data": {
      "text/html": [
       "<style>#sk-container-id-1 {color: black;background-color: white;}#sk-container-id-1 pre{padding: 0;}#sk-container-id-1 div.sk-toggleable {background-color: white;}#sk-container-id-1 label.sk-toggleable__label {cursor: pointer;display: block;width: 100%;margin-bottom: 0;padding: 0.3em;box-sizing: border-box;text-align: center;}#sk-container-id-1 label.sk-toggleable__label-arrow:before {content: \"▸\";float: left;margin-right: 0.25em;color: #696969;}#sk-container-id-1 label.sk-toggleable__label-arrow:hover:before {color: black;}#sk-container-id-1 div.sk-estimator:hover label.sk-toggleable__label-arrow:before {color: black;}#sk-container-id-1 div.sk-toggleable__content {max-height: 0;max-width: 0;overflow: hidden;text-align: left;background-color: #f0f8ff;}#sk-container-id-1 div.sk-toggleable__content pre {margin: 0.2em;color: black;border-radius: 0.25em;background-color: #f0f8ff;}#sk-container-id-1 input.sk-toggleable__control:checked~div.sk-toggleable__content {max-height: 200px;max-width: 100%;overflow: auto;}#sk-container-id-1 input.sk-toggleable__control:checked~label.sk-toggleable__label-arrow:before {content: \"▾\";}#sk-container-id-1 div.sk-estimator input.sk-toggleable__control:checked~label.sk-toggleable__label {background-color: #d4ebff;}#sk-container-id-1 div.sk-label input.sk-toggleable__control:checked~label.sk-toggleable__label {background-color: #d4ebff;}#sk-container-id-1 input.sk-hidden--visually {border: 0;clip: rect(1px 1px 1px 1px);clip: rect(1px, 1px, 1px, 1px);height: 1px;margin: -1px;overflow: hidden;padding: 0;position: absolute;width: 1px;}#sk-container-id-1 div.sk-estimator {font-family: monospace;background-color: #f0f8ff;border: 1px dotted black;border-radius: 0.25em;box-sizing: border-box;margin-bottom: 0.5em;}#sk-container-id-1 div.sk-estimator:hover {background-color: #d4ebff;}#sk-container-id-1 div.sk-parallel-item::after {content: \"\";width: 100%;border-bottom: 1px solid gray;flex-grow: 1;}#sk-container-id-1 div.sk-label:hover label.sk-toggleable__label {background-color: #d4ebff;}#sk-container-id-1 div.sk-serial::before {content: \"\";position: absolute;border-left: 1px solid gray;box-sizing: border-box;top: 0;bottom: 0;left: 50%;z-index: 0;}#sk-container-id-1 div.sk-serial {display: flex;flex-direction: column;align-items: center;background-color: white;padding-right: 0.2em;padding-left: 0.2em;position: relative;}#sk-container-id-1 div.sk-item {position: relative;z-index: 1;}#sk-container-id-1 div.sk-parallel {display: flex;align-items: stretch;justify-content: center;background-color: white;position: relative;}#sk-container-id-1 div.sk-item::before, #sk-container-id-1 div.sk-parallel-item::before {content: \"\";position: absolute;border-left: 1px solid gray;box-sizing: border-box;top: 0;bottom: 0;left: 50%;z-index: -1;}#sk-container-id-1 div.sk-parallel-item {display: flex;flex-direction: column;z-index: 1;position: relative;background-color: white;}#sk-container-id-1 div.sk-parallel-item:first-child::after {align-self: flex-end;width: 50%;}#sk-container-id-1 div.sk-parallel-item:last-child::after {align-self: flex-start;width: 50%;}#sk-container-id-1 div.sk-parallel-item:only-child::after {width: 0;}#sk-container-id-1 div.sk-dashed-wrapped {border: 1px dashed gray;margin: 0 0.4em 0.5em 0.4em;box-sizing: border-box;padding-bottom: 0.4em;background-color: white;}#sk-container-id-1 div.sk-label label {font-family: monospace;font-weight: bold;display: inline-block;line-height: 1.2em;}#sk-container-id-1 div.sk-label-container {text-align: center;}#sk-container-id-1 div.sk-container {/* jupyter's `normalize.less` sets `[hidden] { display: none; }` but bootstrap.min.css set `[hidden] { display: none !important; }` so we also need the `!important` here to be able to override the default hidden behavior on the sphinx rendered scikit-learn.org. See: https://github.com/scikit-learn/scikit-learn/issues/21755 */display: inline-block !important;position: relative;}#sk-container-id-1 div.sk-text-repr-fallback {display: none;}</style><div id=\"sk-container-id-1\" class=\"sk-top-container\"><div class=\"sk-text-repr-fallback\"><pre>RandomForestClassifier(n_jobs=-1, random_state=42)</pre><b>In a Jupyter environment, please rerun this cell to show the HTML representation or trust the notebook. <br />On GitHub, the HTML representation is unable to render, please try loading this page with nbviewer.org.</b></div><div class=\"sk-container\" hidden><div class=\"sk-item\"><div class=\"sk-estimator sk-toggleable\"><input class=\"sk-toggleable__control sk-hidden--visually\" id=\"sk-estimator-id-1\" type=\"checkbox\" checked><label for=\"sk-estimator-id-1\" class=\"sk-toggleable__label sk-toggleable__label-arrow\">RandomForestClassifier</label><div class=\"sk-toggleable__content\"><pre>RandomForestClassifier(n_jobs=-1, random_state=42)</pre></div></div></div></div></div>"
      ],
      "text/plain": [
       "RandomForestClassifier(n_jobs=-1, random_state=42)"
      ]
     },
     "execution_count": 11,
     "metadata": {},
     "output_type": "execute_result"
    }
   ],
   "source": [
    "pilot_model_rfc.fit(X_train, y_train)"
   ]
  },
  {
   "cell_type": "code",
   "execution_count": 12,
   "metadata": {},
   "outputs": [],
   "source": [
    "pilot_accuracy, pilot_predictions = rfc_train_evaluator(pilot_model_rfc, X_train, y_train, X_test, y_test)\n",
    "cm = confusion_matrix(y_test, pilot_predictions)"
   ]
  },
  {
   "cell_type": "code",
   "execution_count": 13,
   "metadata": {},
   "outputs": [
    {
     "data": {
      "image/png": "[encoded data removed]",
      "text/plain": [
       "<Figure size 1400x800 with 2 Axes>"
      ]
     },
     "metadata": {},
     "output_type": "display_data"
    }
   ],
   "source": [
    "fig_rfc = plt.figure(figsize=[14, 8])\n",
    "fs = 20  # fontsize\n",
    "lw = 5  # linewidth\n",
    "fig_rfc.suptitle(\"F1 Score Random Forest with 100 Estimators\", fontsize=fs)\n",
    "sn.heatmap(cm, annot=True, fmt=\"\")\n",
    "plt.xlabel(\"Predicted\")\n",
    "plt.ylabel(\"Truth\")\n",
    "plt.show()"
   ]
  },
  {
   "cell_type": "code",
   "execution_count": 14,
   "metadata": {},
   "outputs": [
    {
     "name": "stdout",
     "output_type": "stream",
     "text": [
      "The f1 scores for the not valid and valid classes are respectively 0.80 and 0.81\n"
     ]
    }
   ],
   "source": [
    "f1_scores = f1_score(y_test, pilot_predictions, average=None)\n",
    "print(f\"The f1 scores for the not valid and valid classes are respectively {f1_scores[0]:.2f} and {f1_scores[1]:.2f}\")"
   ]
  },
  {
   "cell_type": "markdown",
   "metadata": {},
   "source": [
    "- 0.79 and 0.77\n",
    "- 0.81 and 0.79\n",
    "- 0.80 and 0.81"
   ]
  }
 ],
 "metadata": {
  "kernelspec": {
   "display_name": "Python 3 (ipykernel)",
   "language": "python",
   "name": "python3"
  },
  "language_info": {
   "codemirror_mode": {
    "name": "ipython",
    "version": 3
   },
   "file_extension": ".py",
   "mimetype": "text/x-python",
   "name": "python",
   "nbconvert_exporter": "python",
   "pygments_lexer": "ipython3",
   "version": "3.10.6"
  },
  "vscode": {
   "interpreter": {
    "hash": "9be56d37fc75c187c42f0d28adc94f3825638e5e999f1aa6fcbda1803cc337a6"
   }
  }
 },
 "nbformat": 4,
 "nbformat_minor": 4
}
