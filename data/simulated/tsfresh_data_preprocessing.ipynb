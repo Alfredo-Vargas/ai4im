{
 "cells": [
  {
   "cell_type": "markdown",
   "id": "64f7ce12-93fc-4adc-a489-dd76ac342de6",
   "metadata": {},
   "source": [
    "# Balancing the data - Data augmentation"
   ]
  },
  {
   "cell_type": "code",
   "execution_count": 1,
   "id": "1cd93c66-af09-420d-b6cf-a7d1b69c0878",
   "metadata": {},
   "outputs": [],
   "source": [
    "import numpy as np\n",
    "import pandas as pd\n",
    "import my_preprocessing_functions as mpf\n",
    "import os"
   ]
  },
  {
   "cell_type": "code",
   "execution_count": 2,
   "id": "f9450ced-fc3e-41b6-8bc0-bc0238f117a9",
   "metadata": {},
   "outputs": [],
   "source": [
    "pre_pv_list = np.linspace(0.90, 0.01, 20)\n",
    "p_value_list = [np.round(x, 2) for x in pre_pv_list]"
   ]
  },
  {
   "cell_type": "code",
   "execution_count": 4,
   "id": "1ac1442a-8eb0-49f8-ab4d-2cce4ff70b71",
   "metadata": {},
   "outputs": [],
   "source": [
    "data_path = os.getcwd() + \"/Data/\"\n",
    "balanced_data_path = os.getcwd() + \"/BalanceData/\"\n",
    "\n",
    "for p_value in p_value_list:\n",
    "    filename = 'extracted_features_with_pv_' + str(p_value) + '.csv'\n",
    "    new_file_name = 'processed_data_pv_' + str(p_value) + '.csv'\n",
    "    dataset_df = pd.read_csv(data_path + filename)\n",
    "    features = dataset_df.drop(\"valid_or_not\", axis=1)\n",
    "    labels = dataset_df[\"valid_or_not\"]\n",
    "    features = features.pipe(mpf.normalize).pipe(mpf.drop_rows_with_only_nan_values)\n",
    "    features, labels = mpf.balance(features, labels)\n",
    "    balanced_df = features.merge(labels, left_index=True, right_index=True)\n",
    "    balanced_df.drop(['Unnamed: 0'], axis=1, inplace=True)\n",
    "    balanced_df.to_csv(balanced_data_path + new_file_name)"
   ]
  }
 ],
 "metadata": {
  "kernelspec": {
   "display_name": "Python 3 (ipykernel)",
   "language": "python",
   "name": "python3"
  },
  "language_info": {
   "codemirror_mode": {
    "name": "ipython",
    "version": 3
   },
   "file_extension": ".py",
   "mimetype": "text/x-python",
   "name": "python",
   "nbconvert_exporter": "python",
   "pygments_lexer": "ipython3",
   "version": "3.10.6"
  }
 },
 "nbformat": 4,
 "nbformat_minor": 5
}
